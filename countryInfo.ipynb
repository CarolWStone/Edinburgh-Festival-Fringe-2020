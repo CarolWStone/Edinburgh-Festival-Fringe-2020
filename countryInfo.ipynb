{
 "cells": [
  {
   "cell_type": "markdown",
   "metadata": {},
   "source": [
    "# Activities from Different Countries\n",
    "This notebook count the number of activities from different countries"
   ]
  },
  {
   "cell_type": "code",
   "execution_count": 1,
   "metadata": {},
   "outputs": [],
   "source": [
    "import sys # never mind these two commands.\n",
    "sys.path.append('d:/anaconda/lib/site-packages')\n",
    "import json\n",
    "import csv\n",
    "import pandas as pd\n",
    "from collections import Counter"
   ]
  },
  {
   "cell_type": "code",
   "execution_count": 3,
   "metadata": {},
   "outputs": [],
   "source": [
    "with open('fringe_2019.json') as json_file:\n",
    "    fringe_2019 = json.load(json_file)\n",
    "\n",
    "with open('fringe_2018.json') as json_file:\n",
    "    fringe_2018 = json.load(json_file)\n",
    "    \n",
    "with open('fringe_2017.json') as json_file:\n",
    "    fringe_2017 = json.load(json_file)"
   ]
  },
  {
   "cell_type": "markdown",
   "metadata": {},
   "source": [
    "## Count the countries of the activities"
   ]
  },
  {
   "cell_type": "code",
   "execution_count": 6,
   "metadata": {},
   "outputs": [],
   "source": [
    "def countCountry(data):\n",
    "    country = []\n",
    "    count = []\n",
    "    for item in data:\n",
    "        country.append(item['country'])\n",
    "\n",
    "    count = dict(Counter(country))\n",
    "    count['year'] = data[0]['year']\n",
    "    \n",
    "    return count"
   ]
  },
  {
   "cell_type": "code",
   "execution_count": 7,
   "metadata": {},
   "outputs": [],
   "source": [
    "country_2019 = countCountry(fringe_2019)\n",
    "country_2018 = countCountry(fringe_2018)\n",
    "country_2017 = countCountry(fringe_2017)"
   ]
  },
  {
   "cell_type": "code",
   "execution_count": 8,
   "metadata": {},
   "outputs": [],
   "source": [
    "data = []\n",
    "data.append(country_2017)\n",
    "data.append(country_2018)\n",
    "data.append(country_2019)"
   ]
  },
  {
   "cell_type": "code",
   "execution_count": 20,
   "metadata": {},
   "outputs": [
    {
     "data": {
      "text/html": [
       "<div>\n",
       "<style scoped>\n",
       "    .dataframe tbody tr th:only-of-type {\n",
       "        vertical-align: middle;\n",
       "    }\n",
       "\n",
       "    .dataframe tbody tr th {\n",
       "        vertical-align: top;\n",
       "    }\n",
       "\n",
       "    .dataframe thead th {\n",
       "        text-align: right;\n",
       "    }\n",
       "</style>\n",
       "<table border=\"1\" class=\"dataframe\">\n",
       "  <thead>\n",
       "    <tr style=\"text-align: right;\">\n",
       "      <th></th>\n",
       "      <th>UNITED KINGDOM - ENGLAND</th>\n",
       "      <th>UNITED KINGDOM - SCOTLAND</th>\n",
       "      <th>CHINA</th>\n",
       "      <th>FRANCE</th>\n",
       "      <th>SWEDEN</th>\n",
       "      <th>ITALY</th>\n",
       "      <th>UNITED STATES</th>\n",
       "      <th>AUSTRALIA</th>\n",
       "      <th>IRELAND</th>\n",
       "      <th>CZECH REPUBLIC</th>\n",
       "      <th>...</th>\n",
       "      <th>UKRAINE</th>\n",
       "      <th>MALAWI</th>\n",
       "      <th>COUNTRY NOT DECLARED</th>\n",
       "      <th>CÔTE D'IVOIRE</th>\n",
       "      <th>UNITED ARAB EMIRATES</th>\n",
       "      <th>MACAO</th>\n",
       "      <th>IRAN, ISLAMIC REPUBLIC OF</th>\n",
       "      <th>CAYMAN ISLANDS</th>\n",
       "      <th>SAUDI ARABIA</th>\n",
       "      <th>CUBA</th>\n",
       "    </tr>\n",
       "    <tr>\n",
       "      <th>year</th>\n",
       "      <th></th>\n",
       "      <th></th>\n",
       "      <th></th>\n",
       "      <th></th>\n",
       "      <th></th>\n",
       "      <th></th>\n",
       "      <th></th>\n",
       "      <th></th>\n",
       "      <th></th>\n",
       "      <th></th>\n",
       "      <th></th>\n",
       "      <th></th>\n",
       "      <th></th>\n",
       "      <th></th>\n",
       "      <th></th>\n",
       "      <th></th>\n",
       "      <th></th>\n",
       "      <th></th>\n",
       "      <th></th>\n",
       "      <th></th>\n",
       "      <th></th>\n",
       "    </tr>\n",
       "  </thead>\n",
       "  <tbody>\n",
       "    <tr>\n",
       "      <th>2017</th>\n",
       "      <td>1985</td>\n",
       "      <td>996</td>\n",
       "      <td>21</td>\n",
       "      <td>11</td>\n",
       "      <td>9</td>\n",
       "      <td>11</td>\n",
       "      <td>246</td>\n",
       "      <td>138</td>\n",
       "      <td>56</td>\n",
       "      <td>6.0</td>\n",
       "      <td>...</td>\n",
       "      <td>NaN</td>\n",
       "      <td>NaN</td>\n",
       "      <td>NaN</td>\n",
       "      <td>NaN</td>\n",
       "      <td>NaN</td>\n",
       "      <td>NaN</td>\n",
       "      <td>NaN</td>\n",
       "      <td>NaN</td>\n",
       "      <td>NaN</td>\n",
       "      <td>NaN</td>\n",
       "    </tr>\n",
       "    <tr>\n",
       "      <th>2018</th>\n",
       "      <td>2112</td>\n",
       "      <td>1091</td>\n",
       "      <td>10</td>\n",
       "      <td>12</td>\n",
       "      <td>5</td>\n",
       "      <td>11</td>\n",
       "      <td>231</td>\n",
       "      <td>144</td>\n",
       "      <td>69</td>\n",
       "      <td>NaN</td>\n",
       "      <td>...</td>\n",
       "      <td>1.0</td>\n",
       "      <td>NaN</td>\n",
       "      <td>NaN</td>\n",
       "      <td>NaN</td>\n",
       "      <td>NaN</td>\n",
       "      <td>NaN</td>\n",
       "      <td>NaN</td>\n",
       "      <td>NaN</td>\n",
       "      <td>NaN</td>\n",
       "      <td>NaN</td>\n",
       "    </tr>\n",
       "    <tr>\n",
       "      <th>2019</th>\n",
       "      <td>2224</td>\n",
       "      <td>1131</td>\n",
       "      <td>19</td>\n",
       "      <td>8</td>\n",
       "      <td>2</td>\n",
       "      <td>14</td>\n",
       "      <td>285</td>\n",
       "      <td>140</td>\n",
       "      <td>83</td>\n",
       "      <td>1.0</td>\n",
       "      <td>...</td>\n",
       "      <td>2.0</td>\n",
       "      <td>1.0</td>\n",
       "      <td>3.0</td>\n",
       "      <td>2.0</td>\n",
       "      <td>1.0</td>\n",
       "      <td>1.0</td>\n",
       "      <td>2.0</td>\n",
       "      <td>1.0</td>\n",
       "      <td>1.0</td>\n",
       "      <td>1.0</td>\n",
       "    </tr>\n",
       "  </tbody>\n",
       "</table>\n",
       "<p>3 rows × 80 columns</p>\n",
       "</div>"
      ],
      "text/plain": [
       "      UNITED KINGDOM - ENGLAND  UNITED KINGDOM - SCOTLAND  CHINA  FRANCE  \\\n",
       "year                                                                       \n",
       "2017                      1985                        996     21      11   \n",
       "2018                      2112                       1091     10      12   \n",
       "2019                      2224                       1131     19       8   \n",
       "\n",
       "      SWEDEN  ITALY  UNITED STATES  AUSTRALIA  IRELAND  CZECH REPUBLIC  ...  \\\n",
       "year                                                                    ...   \n",
       "2017       9     11            246        138       56             6.0  ...   \n",
       "2018       5     11            231        144       69             NaN  ...   \n",
       "2019       2     14            285        140       83             1.0  ...   \n",
       "\n",
       "      UKRAINE  MALAWI  COUNTRY NOT DECLARED  CÔTE D'IVOIRE  \\\n",
       "year                                                         \n",
       "2017      NaN     NaN                   NaN            NaN   \n",
       "2018      1.0     NaN                   NaN            NaN   \n",
       "2019      2.0     1.0                   3.0            2.0   \n",
       "\n",
       "      UNITED ARAB EMIRATES  MACAO  IRAN, ISLAMIC REPUBLIC OF  CAYMAN ISLANDS  \\\n",
       "year                                                                           \n",
       "2017                   NaN    NaN                        NaN             NaN   \n",
       "2018                   NaN    NaN                        NaN             NaN   \n",
       "2019                   1.0    1.0                        2.0             1.0   \n",
       "\n",
       "      SAUDI ARABIA  CUBA  \n",
       "year                      \n",
       "2017           NaN   NaN  \n",
       "2018           NaN   NaN  \n",
       "2019           1.0   1.0  \n",
       "\n",
       "[3 rows x 80 columns]"
      ]
     },
     "execution_count": 20,
     "metadata": {},
     "output_type": "execute_result"
    }
   ],
   "source": [
    "country_count = pd.DataFrame(data)\n",
    "country_count = country_count.set_index(['year'])\n",
    "country_count"
   ]
  },
  {
   "cell_type": "code",
   "execution_count": 21,
   "metadata": {},
   "outputs": [
    {
     "data": {
      "text/plain": [
       "UNITED KINGDOM - ENGLAND     1985.0\n",
       "UNITED KINGDOM - SCOTLAND     996.0\n",
       "UNITED STATES                 246.0\n",
       "AUSTRALIA                     138.0\n",
       "IRELAND                        56.0\n",
       "CANADA                         49.0\n",
       "UNITED KINGDOM - WALES         43.0\n",
       "CHINA                          21.0\n",
       "KOREA, REPUBLIC OF             20.0\n",
       "NEW ZEALAND                    18.0\n",
       "Name: 2017, dtype: float64"
      ]
     },
     "execution_count": 21,
     "metadata": {},
     "output_type": "execute_result"
    }
   ],
   "source": [
    "country_count.iloc[0].sort_values(ascending=False)[:10]"
   ]
  },
  {
   "cell_type": "code",
   "execution_count": 17,
   "metadata": {},
   "outputs": [
    {
     "data": {
      "text/plain": [
       "UNITED KINGDOM - ENGLAND             2112.0\n",
       "UNITED KINGDOM - SCOTLAND            1091.0\n",
       "UNITED STATES                         231.0\n",
       "AUSTRALIA                             144.0\n",
       "IRELAND                                69.0\n",
       "CANADA                                 46.0\n",
       "UNITED KINGDOM - WALES                 34.0\n",
       "NEW ZEALAND                            25.0\n",
       "GERMANY                                21.0\n",
       "UNITED KINGDOM - NORTHERN IRELAND      18.0\n",
       "Name: 2018, dtype: float64"
      ]
     },
     "execution_count": 17,
     "metadata": {},
     "output_type": "execute_result"
    }
   ],
   "source": [
    "country_count.iloc[1].sort_values(ascending=False)[:10]"
   ]
  },
  {
   "cell_type": "code",
   "execution_count": 18,
   "metadata": {},
   "outputs": [
    {
     "data": {
      "text/plain": [
       "UNITED KINGDOM - ENGLAND             2224.0\n",
       "UNITED KINGDOM - SCOTLAND            1131.0\n",
       "UNITED STATES                         285.0\n",
       "AUSTRALIA                             140.0\n",
       "IRELAND                                83.0\n",
       "CANADA                                 55.0\n",
       "UNITED KINGDOM - WALES                 45.0\n",
       "NEW ZEALAND                            30.0\n",
       "UNITED KINGDOM - NORTHERN IRELAND      27.0\n",
       "GERMANY                                24.0\n",
       "Name: 2019, dtype: float64"
      ]
     },
     "execution_count": 18,
     "metadata": {},
     "output_type": "execute_result"
    }
   ],
   "source": [
    "country_count.iloc[2].sort_values(ascending=False)[:10]"
   ]
  },
  {
   "cell_type": "code",
   "execution_count": 22,
   "metadata": {},
   "outputs": [],
   "source": [
    "country_count.to_csv('countryCount.csv')"
   ]
  },
  {
   "cell_type": "markdown",
   "metadata": {},
   "source": [
    "The Fringe Festival draws activities from all over the world, the distribution in countries and regions have changed little over the past three years. Activities are mainly from England and Scotland, except the United Kingdom, also lots of activities from the United States, Australia, Ireland, and Canada.\n",
    "We generate this part of data as csv file to make a geographic graph in the infographic, we basically use data from 2019. (Please see it in our infographic)"
   ]
  }
 ],
 "metadata": {
  "kernelspec": {
   "display_name": "Python 3",
   "language": "python",
   "name": "python3"
  },
  "language_info": {
   "codemirror_mode": {
    "name": "ipython",
    "version": 3
   },
   "file_extension": ".py",
   "mimetype": "text/x-python",
   "name": "python",
   "nbconvert_exporter": "python",
   "pygments_lexer": "ipython3",
   "version": "3.6.8"
  }
 },
 "nbformat": 4,
 "nbformat_minor": 2
}

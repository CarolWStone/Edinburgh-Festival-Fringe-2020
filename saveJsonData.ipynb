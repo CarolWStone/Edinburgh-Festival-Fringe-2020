{
 "cells": [
  {
   "cell_type": "code",
   "execution_count": null,
   "metadata": {},
   "outputs": [],
   "source": [
    "import hmac\n",
    "import hashlib\n",
    "import requests\n",
    "import json"
   ]
  },
  {
   "cell_type": "markdown",
   "metadata": {},
   "source": [
    "Due to ethical concerns, access to Fringe Festival data requires permission, so the api key and secret key have been hidden and safely keep by the team members."
   ]
  },
  {
   "cell_type": "code",
   "execution_count": null,
   "metadata": {},
   "outputs": [],
   "source": [
    "def saveFringeData(year, length, path):\n",
    "    festival = 'fringe'\n",
    "    templist = []\n",
    "    datalist = []\n",
    "\n",
    "    # The api key and secret key here have been hidden.\n",
    "    api_key = 'temp'\n",
    "    secret_key = 'temp'\n",
    "\n",
    "    # The range here depends on the number of results you want to query.\n",
    "    for page_from in range(0,length):\n",
    "        i = page_from*100\n",
    "        parameters = 'year=' + str(year) + '&festival=' + festival + '&from=' + str(i)\n",
    "        query = '/events?size=100&'+ parameters + '&key=' + api_key\n",
    "        signature = hmac.new(secret_key.encode(), query.encode(), hashlib.sha1).hexdigest()\n",
    "        url = 'https://api.edinburghfestivalcity.com' + query + '&signature=' + signature\n",
    "        rep = requests.get(url)\n",
    "        templist.append(rep.json())\n",
    "        page_from += 1\n",
    "        \n",
    "    for temp in templist:\n",
    "        datalist += temp\n",
    "    \n",
    "    with open(path, 'w') as file:\n",
    "        json.dump(datalist, file) \n",
    "    \n",
    "    return "
   ]
  },
  {
   "cell_type": "markdown",
   "metadata": {},
   "source": [
    "Since each year's data is long, we store eight years' data in eight JSON files."
   ]
  },
  {
   "cell_type": "code",
   "execution_count": null,
   "metadata": {},
   "outputs": [],
   "source": [
    "saveFringeData(2019, 43, 'fringe_2019.json') #4257 results\n",
    "saveFringeData(2018, 40, 'fringe_2018.json') #3985 results\n",
    "saveFringeData(2017, 38, 'fringe_2017.json') #3795 results\n",
    "saveFringeData(2016, 37, 'fringe_2016.json') #3618 results\n",
    "saveFringeData(2015, 35, 'fringe_2015.json') #3487 results\n",
    "saveFringeData(2014, 34, 'fringe_2014.json') #3370 results\n",
    "saveFringeData(2013, 30, 'fringe_2013.json') #2985 results\n",
    "saveFringeData(2012, 28, 'fringe_2012.json') #2782 results"
   ]
  }
 ],
 "metadata": {
  "kernelspec": {
   "display_name": "Python 3",
   "language": "python",
   "name": "python3"
  },
  "language_info": {
   "codemirror_mode": {
    "name": "ipython",
    "version": 3
   },
   "file_extension": ".py",
   "mimetype": "text/x-python",
   "name": "python",
   "nbconvert_exporter": "python",
   "pygments_lexer": "ipython3",
   "version": "3.6.8"
  }
 },
 "nbformat": 4,
 "nbformat_minor": 2
}

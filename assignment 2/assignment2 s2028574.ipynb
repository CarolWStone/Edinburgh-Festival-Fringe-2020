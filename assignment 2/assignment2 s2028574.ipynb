{
 "cells": [
  {
   "cell_type": "markdown",
   "metadata": {},
   "source": [
    "# Describe: "
   ]
  },
  {
   "cell_type": "markdown",
   "metadata": {},
   "source": [
    "-Our data comes from the Edinburgh Festival API provided by Data Host, it contains all the festival information of Edinburgh Festival from 2012 to 2020, among which we mainly analyze the data of Fringe Festival from 2015 to 2019. Our data host hopes that we can find or predict which festival or event will become popular in the future.\n",
    "\n",
    "The process of getting the data from the API is not shown, please contact me if you need.\n",
    "\n",
    "○ what is the general type of the data (tabular, network, geographical, textual etc.)\n",
    "\n",
    "-The format of the data is JSON, which is mainly hierarchical data, but it also includes latitude and longitude, which I think is also a form of geographic data.\n",
    "\n",
    "○ how large and complex is it (rows/columns, size, variation, structure) \n",
    "\n",
    "-There are 4,257 pieces of data from 2019, 3,985 pieces of data from 2018, and 3,795 pieces of data from 2017, each of which represents an event.Each CSV file is larger than 23M\n",
    "\n",
    "○ What fields and data types are present (max/min, levels for categorical values).\n",
    "\n",
    "-Each event has 34 keys, most of which are string, float, bool, int, etc., which can be analyzed, some keys are null, and some are nested with dict and list. The maximum and minimum number of performers can be counted, genre, artist type and age limit can be classified\n",
    "\n",
    "○ Links between this data and other data (e.g. foreign keys, unique ids) \n",
    "\n",
    "-There is no links between festivals, but in our subsequent analysis, we will use Festival-code as the foreign key to connect festivals and their nested lists and dict"
   ]
  },
  {
   "cell_type": "code",
   "execution_count": 1,
   "metadata": {},
   "outputs": [
    {
     "data": {
      "text/html": [
       "<div>\n",
       "<style scoped>\n",
       "    .dataframe tbody tr th:only-of-type {\n",
       "        vertical-align: middle;\n",
       "    }\n",
       "\n",
       "    .dataframe tbody tr th {\n",
       "        vertical-align: top;\n",
       "    }\n",
       "\n",
       "    .dataframe thead th {\n",
       "        text-align: right;\n",
       "    }\n",
       "</style>\n",
       "<table border=\"1\" class=\"dataframe\">\n",
       "  <thead>\n",
       "    <tr style=\"text-align: right;\">\n",
       "      <th></th>\n",
       "      <th>sub_venue</th>\n",
       "      <th>year</th>\n",
       "      <th>fringe_first</th>\n",
       "      <th>performers_number</th>\n",
       "      <th>sub_title</th>\n",
       "      <th>description_teaser</th>\n",
       "      <th>longitude</th>\n",
       "      <th>non_english</th>\n",
       "      <th>latitude</th>\n",
       "    </tr>\n",
       "  </thead>\n",
       "  <tbody>\n",
       "    <tr>\n",
       "      <th>count</th>\n",
       "      <td>0.0</td>\n",
       "      <td>4257.0</td>\n",
       "      <td>0.0</td>\n",
       "      <td>4257.000000</td>\n",
       "      <td>0.0</td>\n",
       "      <td>0.0</td>\n",
       "      <td>4257.000000</td>\n",
       "      <td>0.0</td>\n",
       "      <td>4257.000000</td>\n",
       "    </tr>\n",
       "    <tr>\n",
       "      <th>mean</th>\n",
       "      <td>NaN</td>\n",
       "      <td>2019.0</td>\n",
       "      <td>NaN</td>\n",
       "      <td>4.807846</td>\n",
       "      <td>NaN</td>\n",
       "      <td>NaN</td>\n",
       "      <td>-3.189240</td>\n",
       "      <td>NaN</td>\n",
       "      <td>55.948427</td>\n",
       "    </tr>\n",
       "    <tr>\n",
       "      <th>std</th>\n",
       "      <td>NaN</td>\n",
       "      <td>0.0</td>\n",
       "      <td>NaN</td>\n",
       "      <td>8.845754</td>\n",
       "      <td>NaN</td>\n",
       "      <td>NaN</td>\n",
       "      <td>0.012095</td>\n",
       "      <td>NaN</td>\n",
       "      <td>0.007872</td>\n",
       "    </tr>\n",
       "    <tr>\n",
       "      <th>min</th>\n",
       "      <td>NaN</td>\n",
       "      <td>2019.0</td>\n",
       "      <td>NaN</td>\n",
       "      <td>1.000000</td>\n",
       "      <td>NaN</td>\n",
       "      <td>NaN</td>\n",
       "      <td>-3.381604</td>\n",
       "      <td>NaN</td>\n",
       "      <td>55.608425</td>\n",
       "    </tr>\n",
       "    <tr>\n",
       "      <th>25%</th>\n",
       "      <td>NaN</td>\n",
       "      <td>2019.0</td>\n",
       "      <td>NaN</td>\n",
       "      <td>1.000000</td>\n",
       "      <td>NaN</td>\n",
       "      <td>NaN</td>\n",
       "      <td>-3.192293</td>\n",
       "      <td>NaN</td>\n",
       "      <td>55.945854</td>\n",
       "    </tr>\n",
       "    <tr>\n",
       "      <th>50%</th>\n",
       "      <td>NaN</td>\n",
       "      <td>2019.0</td>\n",
       "      <td>NaN</td>\n",
       "      <td>2.000000</td>\n",
       "      <td>NaN</td>\n",
       "      <td>NaN</td>\n",
       "      <td>-3.187818</td>\n",
       "      <td>NaN</td>\n",
       "      <td>55.948156</td>\n",
       "    </tr>\n",
       "    <tr>\n",
       "      <th>75%</th>\n",
       "      <td>NaN</td>\n",
       "      <td>2019.0</td>\n",
       "      <td>NaN</td>\n",
       "      <td>5.000000</td>\n",
       "      <td>NaN</td>\n",
       "      <td>NaN</td>\n",
       "      <td>-3.185542</td>\n",
       "      <td>NaN</td>\n",
       "      <td>55.950167</td>\n",
       "    </tr>\n",
       "    <tr>\n",
       "      <th>max</th>\n",
       "      <td>NaN</td>\n",
       "      <td>2019.0</td>\n",
       "      <td>NaN</td>\n",
       "      <td>200.000000</td>\n",
       "      <td>NaN</td>\n",
       "      <td>NaN</td>\n",
       "      <td>-2.990308</td>\n",
       "      <td>NaN</td>\n",
       "      <td>55.980849</td>\n",
       "    </tr>\n",
       "  </tbody>\n",
       "</table>\n",
       "</div>"
      ],
      "text/plain": [
       "       sub_venue    year  fringe_first  performers_number  sub_title  \\\n",
       "count        0.0  4257.0           0.0        4257.000000        0.0   \n",
       "mean         NaN  2019.0           NaN           4.807846        NaN   \n",
       "std          NaN     0.0           NaN           8.845754        NaN   \n",
       "min          NaN  2019.0           NaN           1.000000        NaN   \n",
       "25%          NaN  2019.0           NaN           1.000000        NaN   \n",
       "50%          NaN  2019.0           NaN           2.000000        NaN   \n",
       "75%          NaN  2019.0           NaN           5.000000        NaN   \n",
       "max          NaN  2019.0           NaN         200.000000        NaN   \n",
       "\n",
       "       description_teaser    longitude  non_english     latitude  \n",
       "count                 0.0  4257.000000          0.0  4257.000000  \n",
       "mean                  NaN    -3.189240          NaN    55.948427  \n",
       "std                   NaN     0.012095          NaN     0.007872  \n",
       "min                   NaN    -3.381604          NaN    55.608425  \n",
       "25%                   NaN    -3.192293          NaN    55.945854  \n",
       "50%                   NaN    -3.187818          NaN    55.948156  \n",
       "75%                   NaN    -3.185542          NaN    55.950167  \n",
       "max                   NaN    -2.990308          NaN    55.980849  "
      ]
     },
     "execution_count": 1,
     "metadata": {},
     "output_type": "execute_result"
    }
   ],
   "source": [
    "# import sys # never mind these two commands.\n",
    "import pandas as pd\n",
    "import numpy as np\n",
    "import csv\n",
    "import json\n",
    "import seaborn as sns     \n",
    "import matplotlib.pyplot as plt\n",
    "%matplotlib inline\n",
    "\n",
    "fringe_2019 = pd.read_csv(\"fringe_2019.csv\")\n",
    "fringe_2018 = pd.read_csv(\"fringe_2018.csv\")\n",
    "fringe_2017 = pd.read_csv(\"fringe_2017.csv\")\n",
    "fringe_2016 = pd.read_csv(\"fringe_2016.csv\")\n",
    "fringe_2015 = pd.read_csv(\"fringe_2015.csv\")\n",
    "fringe_2019.describe()"
   ]
  },
  {
   "cell_type": "markdown",
   "metadata": {},
   "source": [
    "    Let's take fringe_2019 as an example to talk about the data. \n",
    "\n",
    "First of all, ‘sub_venue’，‘fringe_first’，‘sub_title’，‘description_teaser’ ，‘non_english’are all NaN, which will not be analyzed.\n",
    "\n",
    "Then, count is 4257 values, demonstrating that year, Performers Number, Longtitude, latitude are no NaN value\n",
    "\n",
    "And finally, API Document says：‘ Where no value is available, the API will return null values - you should ensure your application treats and displays these values as \"Unknown\" rather than for example as equivalent to a boolean false or numerical zero’. So if there's null values later on, I'm going to fill it with 'unknown'."
   ]
  },
  {
   "cell_type": "markdown",
   "metadata": {},
   "source": [
    "* In columns disabled, update_times, discounts, performance_space, categories, and venue, the data in each row has changed into dictionary datatype.\n",
    "- In column performances, the data in each row has changed into list datatype, and in each list, each item is in dictionary datatype."
   ]
  },
  {
   "cell_type": "code",
   "execution_count": 2,
   "metadata": {},
   "outputs": [],
   "source": [
    "\n",
    "def preprocess(df):\n",
    "    disabled = []\n",
    "    update = []\n",
    "    discounts = []\n",
    "    space = []\n",
    "    categories = []\n",
    "    venue = []\n",
    "    performances = []\n",
    "    for i in range(0, len(df)):\n",
    "        disabled.append(eval(df['disabled'][i]))\n",
    "        update.append(eval(df['update_times'][i]))\n",
    "        discounts.append(eval(df['discounts'][i]))\n",
    "        space.append(eval(df['performance_space'][i]))\n",
    "        categories.append(eval(df['categories'][i]))\n",
    "        venue.append(eval(df['venue'][i]))\n",
    "        performances.append(list(eval(df['performances'][i])))\n",
    "    df['disabled'] = disabled\n",
    "    df['update_times'] = update\n",
    "    df['discounts'] = discounts\n",
    "    df['performance_space'] = space\n",
    "    df['categories'] = categories\n",
    "    df['venue'] = venue\n",
    "    df['performances'] = performances\n",
    "    return\n",
    "\n",
    "preprocess(fringe_2019)\n",
    "preprocess(fringe_2018)\n",
    "preprocess(fringe_2017)"
   ]
  },
  {
   "cell_type": "markdown",
   "metadata": {},
   "source": [
    "Write 2019‘s DISCOUNTS in dict format into CSV file for convenient data processing later\n",
    "\n",
    "I use 'festival_code' as foreign key, in order to do the follow-up analysis, I can better map to the specific festival"
   ]
  },
  {
   "cell_type": "code",
   "execution_count": 3,
   "metadata": {},
   "outputs": [],
   "source": [
    "\n",
    "disc_list = fringe_2019['discounts'].tolist()\n",
    "disc=disc_list \n",
    "with open('disc_fringe_2019.csv','w',newline='',encoding='utf-8')as f:\n",
    "    disc_fieldnames = list(disc[0].keys())\n",
    "    # use 'festival_code' as foreign key\n",
    "    disc_fieldnames.append('festival_code')\n",
    "    \n",
    "    writer = csv.DictWriter(f,fieldnames=disc_fieldnames)\n",
    "    writer.writeheader()\n",
    "    for i in range(0, len(disc)):\n",
    "        temp = disc[i]\n",
    "        temp['festival_code'] = fringe_2019['code'][i]\n",
    "        writer.writerow(temp)"
   ]
  },
  {
   "cell_type": "markdown",
   "metadata": {},
   "source": [
    "Write 2017‘s，2018's and 2019‘s DISCOUNTS in dict format into CSV file for convenient data processing later\n",
    "\n",
    "I use 'festival_code' as foreign key，In the last for cycle, ‘code’ of the three years should be metched with their discounts, so that each can be a good fit"
   ]
  },
  {
   "cell_type": "code",
   "execution_count": 4,
   "metadata": {},
   "outputs": [],
   "source": [
    "\n",
    "disc_list2= fringe_2017['discounts'].tolist()\n",
    "disc_list1= fringe_2018['discounts'].tolist()\n",
    "disc_list = fringe_2019['discounts'].tolist()\n",
    "disc=disc_list + disc_list1+ disc_list2\n",
    "with open('disc_fringe.csv','w',newline='',encoding='utf-8')as f:\n",
    "    disc_fieldnames1 = list(disc[0].keys())\n",
    "    # use 'festival_code' as foreign key\n",
    "    disc_fieldnames1.append('festival_code')\n",
    "    \n",
    "    writer = csv.DictWriter(f,fieldnames=disc_fieldnames1)\n",
    "    writer.writeheader()\n",
    "    #Match foreign keys with discounts\n",
    "    for i in range(0, len(disc)):\n",
    "        temp = disc[i]\n",
    "        if(i<len(disc_list)):\n",
    "            temp['festival_code'] = fringe_2019['code'][i]\n",
    "        elif(i<(len(disc_list1)+len(disc_list))) :\n",
    "            temp['festival_code'] =(fringe_2018['code'][i-len(disc_list)]) \n",
    "        elif(i>(len(disc_list1)+len(disc_list))) :\n",
    "            temp['festival_code'] =(fringe_2017['code'][i-len(disc_list)-len(disc_list1)])\n",
    "        writer.writerow(temp)"
   ]
  },
  {
   "cell_type": "markdown",
   "metadata": {},
   "source": [
    "Since there is no value in comparing the changes of discount from year to year, I plan to analyse which kind of discount is more attractive to tourists. \n",
    "\n",
    "I take the discount of 2019 as an example to conduct data analysis: \n",
    "\n",
    "Firstly, it can be seen from code that there are 4257 festivals, but 'two for one', 'Group', 'friends' only have 3516 lines, thus it is concluded that they have null value; \n",
    "\n",
    "secondly, from the unique=1 of' School 'and' Passport ', ' School 'and' Passport ' only have flase."
   ]
  },
  {
   "cell_type": "code",
   "execution_count": 5,
   "metadata": {},
   "outputs": [
    {
     "data": {
      "text/html": [
       "<div>\n",
       "<style scoped>\n",
       "    .dataframe tbody tr th:only-of-type {\n",
       "        vertical-align: middle;\n",
       "    }\n",
       "\n",
       "    .dataframe tbody tr th {\n",
       "        vertical-align: top;\n",
       "    }\n",
       "\n",
       "    .dataframe thead th {\n",
       "        text-align: right;\n",
       "    }\n",
       "</style>\n",
       "<table border=\"1\" class=\"dataframe\">\n",
       "  <thead>\n",
       "    <tr style=\"text-align: right;\">\n",
       "      <th></th>\n",
       "      <th>two_for_one</th>\n",
       "      <th>group</th>\n",
       "      <th>friends</th>\n",
       "      <th>passport</th>\n",
       "      <th>schools</th>\n",
       "      <th>festival_code</th>\n",
       "    </tr>\n",
       "  </thead>\n",
       "  <tbody>\n",
       "    <tr>\n",
       "      <th>count</th>\n",
       "      <td>3516</td>\n",
       "      <td>3516</td>\n",
       "      <td>3516</td>\n",
       "      <td>4257</td>\n",
       "      <td>4257</td>\n",
       "      <td>4257</td>\n",
       "    </tr>\n",
       "    <tr>\n",
       "      <th>unique</th>\n",
       "      <td>2</td>\n",
       "      <td>2</td>\n",
       "      <td>2</td>\n",
       "      <td>1</td>\n",
       "      <td>1</td>\n",
       "      <td>4257</td>\n",
       "    </tr>\n",
       "    <tr>\n",
       "      <th>top</th>\n",
       "      <td>False</td>\n",
       "      <td>True</td>\n",
       "      <td>True</td>\n",
       "      <td>False</td>\n",
       "      <td>False</td>\n",
       "      <td>2019MARKWAT_ST</td>\n",
       "    </tr>\n",
       "    <tr>\n",
       "      <th>freq</th>\n",
       "      <td>1776</td>\n",
       "      <td>2533</td>\n",
       "      <td>2367</td>\n",
       "      <td>4257</td>\n",
       "      <td>4257</td>\n",
       "      <td>1</td>\n",
       "    </tr>\n",
       "  </tbody>\n",
       "</table>\n",
       "</div>"
      ],
      "text/plain": [
       "       two_for_one group friends passport schools   festival_code\n",
       "count         3516  3516    3516     4257    4257            4257\n",
       "unique           2     2       2        1       1            4257\n",
       "top          False  True    True    False   False  2019MARKWAT_ST\n",
       "freq          1776  2533    2367     4257    4257               1"
      ]
     },
     "execution_count": 5,
     "metadata": {},
     "output_type": "execute_result"
    }
   ],
   "source": [
    "disc_fringe_2019 = pd.read_csv(\"disc_fringe_2019.csv\")\n",
    "disc_fringe_2019.describe()"
   ]
  },
  {
   "cell_type": "markdown",
   "metadata": {},
   "source": [
    "Data cleansing: Fills null with UNKNOWN\n",
    "\n",
    "The data cleaning process is divided into three steps. \n",
    "\n",
    "The first step is to figure out how many null; \n",
    "\n",
    "the second step is to figure out the proportion of null, and estimate what causes the missing（I tentatively propose that they are data that exists but is not recorded）. \n",
    "\n",
    "Finally, fill in unknown according to the document （Document says ：Where no value is available, the API will return null values - you should ensure your application treats and displays these values as \"Unknown\" rather than for example as equivalent to a boolean false or numerical zero）"
   ]
  },
  {
   "cell_type": "code",
   "execution_count": 6,
   "metadata": {},
   "outputs": [],
   "source": [
    "null1=disc_fringe_2019.isnull().sum()#Count the total null values for each column\n",
    "percent = null1.sum()/np.product(disc_fringe_2019.shape)#figure out the proportions\n",
    "\n",
    "def fillnull(df):\n",
    "    df=df.fillna('Unknown')\n",
    "    return df\n",
    "\n",
    "disc_fringe_2019=fillnull(disc_fringe_2019)"
   ]
  },
  {
   "cell_type": "markdown",
   "metadata": {},
   "source": [
    "There is a pie method to analyze the distribution of several discount methods\n",
    "Method to calculate the proportion of true, flase, unknown for the disc_fringe_2019's columns"
   ]
  },
  {
   "cell_type": "code",
   "execution_count": 7,
   "metadata": {},
   "outputs": [
    {
     "data": {
      "image/png": "[encoded data removed]",
      "text/plain": [
       "<Figure size 432x288 with 1 Axes>"
      ]
     },
     "metadata": {},
     "output_type": "display_data"
    },
    {
     "data": {
      "image/png": "[encoded data removed]",
      "text/plain": [
       "<Figure size 432x288 with 1 Axes>"
      ]
     },
     "metadata": {},
     "output_type": "display_data"
    },
    {
     "data": {
      "image/png": "[encoded data removed]",
      "text/plain": [
       "<Figure size 432x288 with 1 Axes>"
      ]
     },
     "metadata": {},
     "output_type": "display_data"
    },
    {
     "name": "stdout",
     "output_type": "stream",
     "text": [
      "done\n",
      "done\n",
      "done\n"
     ]
    }
   ],
   "source": [
    "def pie(df):\n",
    "    for i in df.columns:\n",
    "        if i=='festival_code'or i=='schools'or i=='passport':\n",
    "            print('done')\n",
    "        else:\n",
    "            n1=(df[i]==True).sum()\n",
    "            n2=(df[i]==False).sum()\n",
    "            n3=(df[i]==\"Unknown\").sum()\n",
    "            share1=n1/(n1+n2+n3)\n",
    "            share2=n2/(n1+n2+n3)\n",
    "            share3=n3/(n1+n2+n3)\n",
    "            share=[share1,share2,share3]\n",
    "            fLabels=[\"True\",\"Flase\",\"Unknown\"]\n",
    "            plt.pie(share, labels = fLabels,autopct='%1.2f%%')\n",
    "            plt.title(i+'_2019')\n",
    "            plt.show()\n",
    "    return\n",
    "pie(disc_fringe_2019)"
   ]
  },
  {
   "cell_type": "markdown",
   "metadata": {},
   "source": [
    "It can be observed from the above figure that false is orange, true is blue, unknown is green. In the pie charts of 'Group' and 'Friends', most artists choose these preferential methods, but in'Twoforone' chart,more artists reject such discount, at the same time,' schools' and 'Passport' are not selected(since they are all false)."
   ]
  },
  {
   "cell_type": "markdown",
   "metadata": {},
   "source": [
    "As can be seen from the above figure, we only need to discuss in the three elements of \"twoforone\", \"group\" and \"friends\"\n",
    " we will discuss the distribution of three discount modes: DF1 is only '2FOR1', DF2 is  '2For1' and 'group', DF3 is '2For1' and 'friends', DF4 is '2for1''friend'and' group ', DF5 is only 'group', DF6 is' group 'and' friends', and DF7 is only 'friends'"
   ]
  },
  {
   "cell_type": "code",
   "execution_count": 8,
   "metadata": {},
   "outputs": [
    {
     "data": {
      "text/plain": [
       "<matplotlib.axes._subplots.AxesSubplot at 0x7f4cad6d00d0>"
      ]
     },
     "execution_count": 8,
     "metadata": {},
     "output_type": "execute_result"
    },
    {
     "data": {
      "image/png": "[encoded data removed]",
      "text/plain": [
       "<Figure size 432x288 with 1 Axes>"
      ]
     },
     "metadata": {
      "needs_background": "light"
     },
     "output_type": "display_data"
    }
   ],
   "source": [
    "\n",
    "df1=disc_fringe_2019[(disc_fringe_2019['two_for_one']==True)&(disc_fringe_2019['group']!=True)&(disc_fringe_2019['friends']!=True)]#1only\n",
    "df2=disc_fringe_2019[(disc_fringe_2019['two_for_one']==True)&(disc_fringe_2019['group']==True)&(disc_fringe_2019['friends']!=True)]#12\n",
    "df3=disc_fringe_2019[(disc_fringe_2019['two_for_one']==True)&(disc_fringe_2019['group']!=True)&(disc_fringe_2019['friends']==True)]#13\n",
    "df4=disc_fringe_2019[(disc_fringe_2019['two_for_one']==True)&(disc_fringe_2019['group']==True)&(disc_fringe_2019['friends']==True)]#123\n",
    "df5=disc_fringe_2019[(disc_fringe_2019['two_for_one']!=True)&(disc_fringe_2019['group']==True)&(disc_fringe_2019['friends']!=True)]#2only\n",
    "df6=disc_fringe_2019[(disc_fringe_2019['two_for_one']!=True)&(disc_fringe_2019['group']==True)&(disc_fringe_2019['friends']==True)]#23\n",
    "df7=disc_fringe_2019[(disc_fringe_2019['two_for_one']!=True)&(disc_fringe_2019['group']!=True)&(disc_fringe_2019['friends']==True)]#3only\n",
    "\n",
    "x = [\"2for1\",'2for1&g','2for1&f','21&g&f','group','f&g','friends']\n",
    "y = [df1.shape[0], df2.shape[0], df3.shape[0], df4.shape[0],df5.shape[0],df6.shape[0],df7.shape[0]]\n",
    "sns.barplot(x,y)"
   ]
  },
  {
   "cell_type": "markdown",
   "metadata": {},
   "source": [
    "As can be seen from the above figure, there are still a large number of artists willing to choose a variety of preferential methods, among which the number of artists who choose all three methods is the largest（more than 1000）,fewer artists choose '2FOR1' and '2For1 & Friends'"
   ]
  },
  {
   "cell_type": "markdown",
   "metadata": {},
   "source": [
    "Next, I will analyze the number of performers. I think the situation of performers may be related to the audience's preference, or it may be related to the situation of the festival every year"
   ]
  },
  {
   "cell_type": "markdown",
   "metadata": {},
   "source": [
    "Data cleansing \n",
    "1. Determine if there some data is  null  -  none\n",
    "2. Determine whether the number of people are integers - > are all int"
   ]
  },
  {
   "cell_type": "code",
   "execution_count": 9,
   "metadata": {},
   "outputs": [
    {
     "name": "stdout",
     "output_type": "stream",
     "text": [
      "0 0 0\n",
      "<class 'pandas.core.frame.DataFrame'>\n",
      "RangeIndex: 4257 entries, 0 to 4256\n",
      "Data columns (total 1 columns):\n",
      " #   Column             Non-Null Count  Dtype\n",
      "---  ------             --------------  -----\n",
      " 0   performers_number  4257 non-null   int64\n",
      "dtypes: int64(1)\n",
      "memory usage: 33.4 KB\n",
      "<class 'pandas.core.frame.DataFrame'>\n",
      "RangeIndex: 3985 entries, 0 to 3984\n",
      "Data columns (total 1 columns):\n",
      " #   Column             Non-Null Count  Dtype\n",
      "---  ------             --------------  -----\n",
      " 0   performers_number  3985 non-null   int64\n",
      "dtypes: int64(1)\n",
      "memory usage: 31.3 KB\n",
      "<class 'pandas.core.frame.DataFrame'>\n",
      "RangeIndex: 3795 entries, 0 to 3794\n",
      "Data columns (total 1 columns):\n",
      " #   Column             Non-Null Count  Dtype\n",
      "---  ------             --------------  -----\n",
      " 0   performers_number  3795 non-null   int64\n",
      "dtypes: int64(1)\n",
      "memory usage: 29.8 KB\n",
      "None None None\n"
     ]
    }
   ],
   "source": [
    "#cleaning\n",
    "null2=fringe_2019[\"performers_number\"].isnull().sum()\n",
    "null3=fringe_2018[\"performers_number\"].isnull().sum()\n",
    "null4=fringe_2017[\"performers_number\"].isnull().sum()#Count the total null values for each column\n",
    "print(null2,null3,null4)#all 0.There is no need to fill in null\n",
    "\n",
    "print(pd.DataFrame(fringe_2019['performers_number']).info(),\n",
    "      pd.DataFrame(fringe_2018['performers_number']).info(),\n",
    "      pd.DataFrame(fringe_2017['performers_number']).info())# all int\n"
   ]
  },
  {
   "cell_type": "markdown",
   "metadata": {},
   "source": [
    "Merge the year and performers_number from the three years into a single table\n",
    "1. Select 3years‘ ’year‘ and ’code‘, ‘performers_number’ and ‘code’\n",
    "2. Combine year and performers_number with code as index\n",
    "3. Merge the three years' dataframes with the column name（‘year’ and‘num’） again"
   ]
  },
  {
   "cell_type": "code",
   "execution_count": 10,
   "metadata": {},
   "outputs": [],
   "source": [
    "ndf1=pd.DataFrame({'year':fringe_2019[\"year\"],'code':fringe_2019[\"code\"]})\n",
    "ndf2=pd.DataFrame({'year':fringe_2018[\"year\"],'code':fringe_2018[\"code\"]})\n",
    "ndf3=pd.DataFrame({'year':fringe_2017[\"year\"],'code':fringe_2017[\"code\"]})\n",
    "ndf4=pd.DataFrame({'num':fringe_2019[\"performers_number\"],'code':fringe_2019[\"code\"]})\n",
    "ndf5=pd.DataFrame({'num':fringe_2018[\"performers_number\"],'code':fringe_2018[\"code\"]})\n",
    "ndf6=pd.DataFrame({'num':fringe_2017[\"performers_number\"],'code':fringe_2017[\"code\"]})\n",
    "result1=pd.merge(ndf1,ndf4,on='code')\n",
    "result2=pd.merge(ndf2,ndf5,on='code')\n",
    "result3=pd.merge(ndf3,ndf6,on='code')\n",
    "result=result1.append([result2,result3])"
   ]
  },
  {
   "cell_type": "markdown",
   "metadata": {},
   "source": [
    "cleaning 3.Determine whether the number of years and the number of people are all positive--all positive"
   ]
  },
  {
   "cell_type": "code",
   "execution_count": 11,
   "metadata": {},
   "outputs": [
    {
     "name": "stdout",
     "output_type": "stream",
     "text": [
      " positve：4257\n",
      " negative：0\n",
      " nonePN：0\n",
      " positve：3985\n",
      " negative：0\n",
      " nonePN：0\n",
      " positve：3795\n",
      " negative：0\n",
      " nonePN：0\n",
      " positve：4257\n",
      " negative：0\n",
      " nonePN：0\n",
      " positve：3985\n",
      " negative：0\n",
      " nonePN：0\n",
      " positve：3795\n",
      " negative：0\n",
      " nonePN：0\n"
     ]
    }
   ],
   "source": [
    "def pnn(df):\n",
    "    positiveNum=0\n",
    "    negativeNum=0\n",
    "    nonePositiveNegative=0\n",
    "    for i in df:\n",
    "        if i>0:\n",
    "            positiveNum=positiveNum+1\n",
    "        elif i<0:\n",
    "            negativeNum=negativeNum+1\n",
    "        else:\n",
    "            nonePositiveNegative=nonePositiveNegative+1\n",
    "    print (\" positve：\"+str(positiveNum))\n",
    "    print (\" negative：\"+str(negativeNum))\n",
    "    print (\" nonePN：\"+str(nonePositiveNegative))\n",
    "    return\n",
    "pnn(ndf1['year'])\n",
    "pnn(ndf2['year'])\n",
    "pnn(ndf3['year'])\n",
    "pnn(ndf4['num'])\n",
    "pnn(ndf5['num'])\n",
    "pnn(ndf6['num'])\n",
    "#in conclusion，all positive"
   ]
  },
  {
   "cell_type": "markdown",
   "metadata": {},
   "source": [
    "knowing the number of performers over 3 years to see their median, maximum, minimum, average,standard deviation, etc"
   ]
  },
  {
   "cell_type": "code",
   "execution_count": 12,
   "metadata": {},
   "outputs": [
    {
     "data": {
      "text/html": [
       "<div>\n",
       "<style scoped>\n",
       "    .dataframe tbody tr th:only-of-type {\n",
       "        vertical-align: middle;\n",
       "    }\n",
       "\n",
       "    .dataframe tbody tr th {\n",
       "        vertical-align: top;\n",
       "    }\n",
       "\n",
       "    .dataframe thead th {\n",
       "        text-align: right;\n",
       "    }\n",
       "</style>\n",
       "<table border=\"1\" class=\"dataframe\">\n",
       "  <thead>\n",
       "    <tr style=\"text-align: right;\">\n",
       "      <th></th>\n",
       "      <th>year</th>\n",
       "      <th>num</th>\n",
       "    </tr>\n",
       "  </thead>\n",
       "  <tbody>\n",
       "    <tr>\n",
       "      <th>count</th>\n",
       "      <td>4257.0</td>\n",
       "      <td>4257.000000</td>\n",
       "    </tr>\n",
       "    <tr>\n",
       "      <th>mean</th>\n",
       "      <td>2019.0</td>\n",
       "      <td>4.807846</td>\n",
       "    </tr>\n",
       "    <tr>\n",
       "      <th>std</th>\n",
       "      <td>0.0</td>\n",
       "      <td>8.845754</td>\n",
       "    </tr>\n",
       "    <tr>\n",
       "      <th>min</th>\n",
       "      <td>2019.0</td>\n",
       "      <td>1.000000</td>\n",
       "    </tr>\n",
       "    <tr>\n",
       "      <th>25%</th>\n",
       "      <td>2019.0</td>\n",
       "      <td>1.000000</td>\n",
       "    </tr>\n",
       "    <tr>\n",
       "      <th>50%</th>\n",
       "      <td>2019.0</td>\n",
       "      <td>2.000000</td>\n",
       "    </tr>\n",
       "    <tr>\n",
       "      <th>75%</th>\n",
       "      <td>2019.0</td>\n",
       "      <td>5.000000</td>\n",
       "    </tr>\n",
       "    <tr>\n",
       "      <th>max</th>\n",
       "      <td>2019.0</td>\n",
       "      <td>200.000000</td>\n",
       "    </tr>\n",
       "  </tbody>\n",
       "</table>\n",
       "</div>"
      ],
      "text/plain": [
       "         year          num\n",
       "count  4257.0  4257.000000\n",
       "mean   2019.0     4.807846\n",
       "std       0.0     8.845754\n",
       "min    2019.0     1.000000\n",
       "25%    2019.0     1.000000\n",
       "50%    2019.0     2.000000\n",
       "75%    2019.0     5.000000\n",
       "max    2019.0   200.000000"
      ]
     },
     "execution_count": 12,
     "metadata": {},
     "output_type": "execute_result"
    }
   ],
   "source": [
    "result1.describe()"
   ]
  },
  {
   "cell_type": "code",
   "execution_count": 13,
   "metadata": {},
   "outputs": [
    {
     "data": {
      "text/html": [
       "<div>\n",
       "<style scoped>\n",
       "    .dataframe tbody tr th:only-of-type {\n",
       "        vertical-align: middle;\n",
       "    }\n",
       "\n",
       "    .dataframe tbody tr th {\n",
       "        vertical-align: top;\n",
       "    }\n",
       "\n",
       "    .dataframe thead th {\n",
       "        text-align: right;\n",
       "    }\n",
       "</style>\n",
       "<table border=\"1\" class=\"dataframe\">\n",
       "  <thead>\n",
       "    <tr style=\"text-align: right;\">\n",
       "      <th></th>\n",
       "      <th>year</th>\n",
       "      <th>num</th>\n",
       "    </tr>\n",
       "  </thead>\n",
       "  <tbody>\n",
       "    <tr>\n",
       "      <th>count</th>\n",
       "      <td>3985.0</td>\n",
       "      <td>3985.000000</td>\n",
       "    </tr>\n",
       "    <tr>\n",
       "      <th>mean</th>\n",
       "      <td>2018.0</td>\n",
       "      <td>5.262735</td>\n",
       "    </tr>\n",
       "    <tr>\n",
       "      <th>std</th>\n",
       "      <td>0.0</td>\n",
       "      <td>13.516165</td>\n",
       "    </tr>\n",
       "    <tr>\n",
       "      <th>min</th>\n",
       "      <td>2018.0</td>\n",
       "      <td>1.000000</td>\n",
       "    </tr>\n",
       "    <tr>\n",
       "      <th>25%</th>\n",
       "      <td>2018.0</td>\n",
       "      <td>1.000000</td>\n",
       "    </tr>\n",
       "    <tr>\n",
       "      <th>50%</th>\n",
       "      <td>2018.0</td>\n",
       "      <td>2.000000</td>\n",
       "    </tr>\n",
       "    <tr>\n",
       "      <th>75%</th>\n",
       "      <td>2018.0</td>\n",
       "      <td>5.000000</td>\n",
       "    </tr>\n",
       "    <tr>\n",
       "      <th>max</th>\n",
       "      <td>2018.0</td>\n",
       "      <td>500.000000</td>\n",
       "    </tr>\n",
       "  </tbody>\n",
       "</table>\n",
       "</div>"
      ],
      "text/plain": [
       "         year          num\n",
       "count  3985.0  3985.000000\n",
       "mean   2018.0     5.262735\n",
       "std       0.0    13.516165\n",
       "min    2018.0     1.000000\n",
       "25%    2018.0     1.000000\n",
       "50%    2018.0     2.000000\n",
       "75%    2018.0     5.000000\n",
       "max    2018.0   500.000000"
      ]
     },
     "execution_count": 13,
     "metadata": {},
     "output_type": "execute_result"
    }
   ],
   "source": [
    "result2.describe()"
   ]
  },
  {
   "cell_type": "code",
   "execution_count": 14,
   "metadata": {},
   "outputs": [
    {
     "data": {
      "text/html": [
       "<div>\n",
       "<style scoped>\n",
       "    .dataframe tbody tr th:only-of-type {\n",
       "        vertical-align: middle;\n",
       "    }\n",
       "\n",
       "    .dataframe tbody tr th {\n",
       "        vertical-align: top;\n",
       "    }\n",
       "\n",
       "    .dataframe thead th {\n",
       "        text-align: right;\n",
       "    }\n",
       "</style>\n",
       "<table border=\"1\" class=\"dataframe\">\n",
       "  <thead>\n",
       "    <tr style=\"text-align: right;\">\n",
       "      <th></th>\n",
       "      <th>year</th>\n",
       "      <th>num</th>\n",
       "    </tr>\n",
       "  </thead>\n",
       "  <tbody>\n",
       "    <tr>\n",
       "      <th>count</th>\n",
       "      <td>3795.0</td>\n",
       "      <td>3795.000000</td>\n",
       "    </tr>\n",
       "    <tr>\n",
       "      <th>mean</th>\n",
       "      <td>2017.0</td>\n",
       "      <td>6.067194</td>\n",
       "    </tr>\n",
       "    <tr>\n",
       "      <th>std</th>\n",
       "      <td>0.0</td>\n",
       "      <td>14.050176</td>\n",
       "    </tr>\n",
       "    <tr>\n",
       "      <th>min</th>\n",
       "      <td>2017.0</td>\n",
       "      <td>1.000000</td>\n",
       "    </tr>\n",
       "    <tr>\n",
       "      <th>25%</th>\n",
       "      <td>2017.0</td>\n",
       "      <td>1.000000</td>\n",
       "    </tr>\n",
       "    <tr>\n",
       "      <th>50%</th>\n",
       "      <td>2017.0</td>\n",
       "      <td>2.000000</td>\n",
       "    </tr>\n",
       "    <tr>\n",
       "      <th>75%</th>\n",
       "      <td>2017.0</td>\n",
       "      <td>6.000000</td>\n",
       "    </tr>\n",
       "    <tr>\n",
       "      <th>max</th>\n",
       "      <td>2017.0</td>\n",
       "      <td>300.000000</td>\n",
       "    </tr>\n",
       "  </tbody>\n",
       "</table>\n",
       "</div>"
      ],
      "text/plain": [
       "         year          num\n",
       "count  3795.0  3795.000000\n",
       "mean   2017.0     6.067194\n",
       "std       0.0    14.050176\n",
       "min    2017.0     1.000000\n",
       "25%    2017.0     1.000000\n",
       "50%    2017.0     2.000000\n",
       "75%    2017.0     6.000000\n",
       "max    2017.0   300.000000"
      ]
     },
     "execution_count": 14,
     "metadata": {},
     "output_type": "execute_result"
    }
   ],
   "source": [
    "result3.describe()"
   ]
  },
  {
   "cell_type": "code",
   "execution_count": 15,
   "metadata": {},
   "outputs": [
    {
     "data": {
      "image/png": "[encoded data removed]",
      "text/plain": [
       "<Figure size 432x288 with 1 Axes>"
      ]
     },
     "metadata": {
      "needs_background": "light"
     },
     "output_type": "display_data"
    }
   ],
   "source": [
    "sns.stripplot(x=result[\"year\"],y=result[\"num\"])\n",
    "plt.show()"
   ]
  },
  {
   "cell_type": "code",
   "execution_count": 16,
   "metadata": {},
   "outputs": [
    {
     "data": {
      "image/png": "[encoded data removed]",
      "text/plain": [
       "<Figure size 432x288 with 1 Axes>"
      ]
     },
     "metadata": {
      "needs_background": "light"
     },
     "output_type": "display_data"
    }
   ],
   "source": [
    "sns.violinplot(x=result[\"year\"],y=result[\"num\"])\n",
    "plt.show()"
   ]
  },
  {
   "cell_type": "markdown",
   "metadata": {},
   "source": [
    "Combining two visualizations and three describes (), we can conclude that the average in 2019 is 4.8, and the maximum in 200, in 2018 is 5.3, and the maximum in 500, in 2017 is 6.1, and the maximum in 300. The maximum number of performers can be seen in stripplot and Violinplot, while the majority of performers are concentrated below 10, which can also be obtained by combining with the average.\n",
    "\n",
    "From Violinplot, it can be seen that the violins of 2019 are the widest. Combined with the minimum standard deviation of 2019, we conclude that 2019 has the most small-scale performers"
   ]
  },
  {
   "cell_type": "markdown",
   "metadata": {},
   "source": [
    "Since three years of data cannot determine the trend, I chose five years of data to calculate their maximum, minimum, average and total. And try to get a relationship between them and the year"
   ]
  },
  {
   "cell_type": "code",
   "execution_count": 17,
   "metadata": {},
   "outputs": [
    {
     "data": {
      "text/plain": [
       "<matplotlib.legend.Legend at 0x7f4cad542f90>"
      ]
     },
     "execution_count": 17,
     "metadata": {},
     "output_type": "execute_result"
    },
    {
     "data": {
      "image/png": "[encoded data removed]",
      "text/plain": [
       "<Figure size 432x288 with 1 Axes>"
      ]
     },
     "metadata": {
      "needs_background": "light"
     },
     "output_type": "display_data"
    }
   ],
   "source": [
    "def per_num_mean(df):\n",
    "    mean=df[\"performers_number\"].mean()\n",
    "    return mean\n",
    "mean1=per_num_mean(fringe_2019)\n",
    "mean2=per_num_mean(fringe_2018)\n",
    "mean3=per_num_mean(fringe_2017)\n",
    "mean4=per_num_mean(fringe_2016)\n",
    "mean5=per_num_mean(fringe_2015)\n",
    "x_data = ['2015','2016','2017','2018','2019']\n",
    "y_data = [mean5,mean4,mean3,mean2,mean1]\n",
    "\n",
    "def per_num_min(df):\n",
    "    min=df[\"performers_number\"].min()\n",
    "    return min\n",
    "min1=per_num_min(fringe_2019)\n",
    "min2=per_num_min(fringe_2018)\n",
    "min3=per_num_min(fringe_2017)\n",
    "min4=per_num_min(fringe_2016)\n",
    "min5=per_num_min(fringe_2015)\n",
    "y_data2 = [min5,min4,min3,min2,min1]\n",
    "\n",
    "def per_num_max(df):\n",
    "    max=df[\"performers_number\"].max()\n",
    "    return max\n",
    "max1=per_num_max(fringe_2019)\n",
    "max2=per_num_max(fringe_2018)\n",
    "max3=per_num_max(fringe_2017)\n",
    "max4=per_num_max(fringe_2016)\n",
    "max5=per_num_max(fringe_2015)\n",
    "y_data3 = [max5,max4,max3,max2,max1]\n",
    "\n",
    "def per_num_sum(df):\n",
    "    sum=df[\"performers_number\"].sum()\n",
    "    return sum\n",
    "sum1=per_num_sum(fringe_2019)\n",
    "sum2=per_num_sum(fringe_2018)\n",
    "sum3=per_num_sum(fringe_2017)\n",
    "sum4=per_num_sum(fringe_2016)\n",
    "sum5=per_num_sum(fringe_2015)\n",
    "y_data4 = [sum5,sum4,sum3,sum2,sum1]\n",
    "\n",
    "ln1,=plt.plot(x_data,y_data,color='red',linewidth=2.0,linestyle='--')\n",
    "ln2,=plt.plot(x_data,y_data2,color='blue',linewidth=2.0,linestyle='-.')\n",
    "\n",
    "plt.legend(handles=[ln1,ln2],labels=['mean','min'])"
   ]
  },
  {
   "cell_type": "markdown",
   "metadata": {},
   "source": [
    "In conclusion, the minimum is all 1, but the average decreases from 2016 onwards"
   ]
  },
  {
   "cell_type": "code",
   "execution_count": 18,
   "metadata": {},
   "outputs": [
    {
     "data": {
      "text/plain": [
       "Text(0.5, 1.0, 'performers_number_sums')"
      ]
     },
     "execution_count": 18,
     "metadata": {},
     "output_type": "execute_result"
    },
    {
     "data": {
      "image/png": "[encoded data removed]",
      "text/plain": [
       "<Figure size 432x288 with 1 Axes>"
      ]
     },
     "metadata": {
      "needs_background": "light"
     },
     "output_type": "display_data"
    }
   ],
   "source": [
    "ln4,=plt.plot(x_data,y_data4,color='yellow',linewidth=2.0,linestyle='solid')\n",
    "plt.title(\"performers_number_sums\") "
   ]
  },
  {
   "cell_type": "markdown",
   "metadata": {},
   "source": [
    "The total number of performers surged from 2015 to 2016, but gradually declined after 2016, with 2019 dropping by around 3,000 compared with 2016"
   ]
  },
  {
   "cell_type": "code",
   "execution_count": 19,
   "metadata": {},
   "outputs": [
    {
     "data": {
      "text/plain": [
       "Text(0.5, 1.0, 'performers_number_maxs')"
      ]
     },
     "execution_count": 19,
     "metadata": {},
     "output_type": "execute_result"
    },
    {
     "data": {
      "image/png": "[encoded data removed]",
      "text/plain": [
       "<Figure size 432x288 with 1 Axes>"
      ]
     },
     "metadata": {
      "needs_background": "light"
     },
     "output_type": "display_data"
    }
   ],
   "source": [
    "ln3,=plt.plot(x_data,y_data3,color='green',linewidth=2.0,linestyle=':')\n",
    "plt.title(\"performers_number_maxs\") "
   ]
  },
  {
   "cell_type": "markdown",
   "metadata": {},
   "source": [
    "The peak was as high as 1,000 in 2016, but dropped to 200 after 2019, and fluctuated from 2016 to 2019"
   ]
  },
  {
   "cell_type": "markdown",
   "metadata": {},
   "source": [
    "In my opinion, the number of performers is related to the year. Generally speaking, 2016 is the peak year for fringe performers, with the number declining year by year from 17 to 19. Combined with the violinpolt above, performers are more likely to organize smaller performances, and the number of large-scale performances is also declining."
   ]
  },
  {
   "cell_type": "markdown",
   "metadata": {},
   "source": [
    "# Reflect and Hypothesise:"
   ]
  },
  {
   "cell_type": "markdown",
   "metadata": {},
   "source": [
    "What do you think might be behind the relationships and distributions that you have found? How does your data relate to the world?In short, what hypotheses came up as you explored the data, and how would you go about testing them? We would expect to see: \n",
    "\n",
    "○ A 200 word reflection on the data\n",
    "\n",
    "○ 3-5 hypotheses with an explanation of: \n",
    "■ What your hypothesis is \n",
    "■ why you think that (referring to your graphs) \n",
    "■ How you could go about testing it (note that this may include: further studies, asking the data owner, using some advanced algorithms, checking each data point individually, etc..) \n",
    "\n",
    "NOTE: You don’t have to actually test the hypotheses - you just have to demonstrate that you have plausibly thought about how you would test them."
   ]
  },
  {
   "cell_type": "markdown",
   "metadata": {},
   "source": [
    "#reflection：\n",
    "\n",
    "First, reflecting on the difficulties I met, our data host hopes that we can find or predict which festivals will become popular in the future. It is easy for me to think that tickets with big discounts are more likely to attract tourists, and people are more willing to go to events with high cost performance. However, after understanding the data, I found that there was no data that could help us know the ideas of tourists in previous years, like there was no data on the number of participants in each festival, which made my analysis a little empty, and I might not be able to fully meet the challenge of data host. \n",
    "\n",
    "The solution I came up with was to ask data host for some data related to tourists and hope he would like to give it to us.\n",
    "\n",
    "Finally, when I analyzed the data, I encountered some difficulties, such as some dict or list of our data nested in the original data. It would not be difficult to just display them, but it would be difficult to do data analysis with them. So we rewrote the dict into CSV to simplify it, but I don't know if that's the best way to do it。\n",
    "When doing yearly analysis of the number of performers, I found my code to be a bit verbose because I had to select and calculate from a different dataframe over and over again. I'm dying to know if there's a better solution about it."
   ]
  },
  {
   "cell_type": "markdown",
   "metadata": {},
   "source": [
    "#hypotheses:\n",
    "1.Tourists prefer to go to places with high discounts, but I cannot explain my idea for the moment, because I do not have tourist data. However, I plan to find out festivals with large and small Numbers of tourists and analyze their discount situation to verify after obtaining the tourist data. I think it is feasible.\n",
    "\n",
    "2.'Group' and 'friends' are the preferred types of discounts. Because there are many events to choose three kinds of discount, and there are also many events to choose 'group' and 'friends'. From the perspective of tourism, maybe tourists are more willing to play together as teams, so I think these two discount ways are better. I may need some order data and tourist data to verify.\n",
    "\n",
    "3.In the past few years, larger shows have attracted more audiences, but in the past two years, smaller shows have been a trend. As can be seen from the data of performers, the total number, the average number and the maximum number of performers were the largest in 2016, and then gradually decreased from 2017 to 2019. In 2020, due to the impact of the epidemic, large-scale performances are more difficult to appear. Therefore, I predict that the number will decrease. I will collect tourist data and verify it.\n"
   ]
  }
 ],
 "metadata": {
  "kernelspec": {
   "display_name": "Python 3",
   "language": "python",
   "name": "python3"
  },
  "language_info": {
   "codemirror_mode": {
    "name": "ipython",
    "version": 3
   },
   "file_extension": ".py",
   "mimetype": "text/x-python",
   "name": "python",
   "nbconvert_exporter": "python",
   "pygments_lexer": "ipython3",
   "version": "3.7.6"
  }
 },
 "nbformat": 4,
 "nbformat_minor": 2
}

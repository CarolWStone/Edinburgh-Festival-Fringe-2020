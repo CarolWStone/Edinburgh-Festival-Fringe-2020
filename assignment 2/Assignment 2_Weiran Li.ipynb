{
 "cells": [
  {
   "cell_type": "markdown",
   "metadata": {},
   "source": [
    "# Assignment 2 —Project Data Analysis\n",
    "\n",
    "\n",
    "# 1. Data Description\n",
    "\n",
    "Brief: Carry out a structured analysis of a portion of the data provided by your data holder. This should be structured as follows. This assignment is carried out with your group project. However, each student has to hand in their own and individual analysis. Within each group, students should decide that each student is doing an independent piece of analysis on a different part of the data."
   ]
  },
  {
   "cell_type": "markdown",
   "metadata": {},
   "source": [
    "### Describe\n",
    "\n",
    "1. The type of data obtained by our group from API is hierarchical data, and the format is JSON. The data are about Edinburgh Festivals and performances. \n",
    "\n",
    "\n",
    "2. Edinburgh Festival Fringe has 4257 data in 2019, 3985 in 2018 and 3795 in 2017. Each of these data represents a festival event. There are 34 keys in each festival and most of them have meaningful value, mainly string, boolean and number. Some keys have nested list or dictionary structures. The values of a few keys are not very useful in data analysis and the value of a few keys is null. Since Edinburgh Festival Fringe is the most important, we will only analyze it in this assignment.\n",
    "\n",
    "\n",
    "3. From the API provided by data host, we can get all the data about festival performances in Edinburgh Festival from 2012 to 2020, including other festivals. The data we use is not directly related to the data of other festivals.（Other festivals: Imaginate Festival, Edinburgh International Science Festival, Roya Edinburgh Military Tatto, Edinburgh Internation Film Festival, Edinburgh Internation Festival and so on.)\n",
    "\n",
    "\n",
    "4. Because these data are huge, in this assignment, we will choose to do some analysis, using the data of the past three years, especially in 2019. For convenience and the data that we analyze does not need to be updated in real time, we have stored the data obtained from API in the format of CSV files (the file sizes are 26.5M, 25.2M and 23.5M respectively). \n",
    "\n",
    "\n",
    "5. The main questions we need to discuss are about Edinburgh Festival, the importance of genre for popularity, who are the successful workers and who is left out, and so on. These data are related to these questions, such as the disabled, artists, which can be used to analyze left out and successful people. In addition, We can also analyze the times of holding performances or their tags, and use some algorithms to explore which performances are more popular."
   ]
  },
  {
   "cell_type": "code",
   "execution_count": 2,
   "metadata": {},
   "outputs": [],
   "source": [
    "import pandas as pd\n",
    "import numpy as np\n",
    "import csv\n",
    "import json\n",
    "\n",
    "fringe_2019 = pd.read_csv(\"fringe_2019.csv\")\n",
    "fringe_2018 = pd.read_csv(\"fringe_2018.csv\")\n",
    "fringe_2017 = pd.read_csv(\"fringe_2017.csv\")"
   ]
  },
  {
   "cell_type": "code",
   "execution_count": 3,
   "metadata": {
    "scrolled": false
   },
   "outputs": [
    {
     "data": {
      "text/html": [
       "<div>\n",
       "<style scoped>\n",
       "    .dataframe tbody tr th:only-of-type {\n",
       "        vertical-align: middle;\n",
       "    }\n",
       "\n",
       "    .dataframe tbody tr th {\n",
       "        vertical-align: top;\n",
       "    }\n",
       "\n",
       "    .dataframe thead th {\n",
       "        text-align: right;\n",
       "    }\n",
       "</style>\n",
       "<table border=\"1\" class=\"dataframe\">\n",
       "  <thead>\n",
       "    <tr style=\"text-align: right;\">\n",
       "      <th></th>\n",
       "      <th>performance_space</th>\n",
       "      <th>festival_id</th>\n",
       "      <th>categories</th>\n",
       "      <th>images</th>\n",
       "      <th>description_teaser</th>\n",
       "      <th>disabled</th>\n",
       "      <th>longitude</th>\n",
       "      <th>genre</th>\n",
       "      <th>festival</th>\n",
       "      <th>sub_title</th>\n",
       "      <th>...</th>\n",
       "      <th>title</th>\n",
       "      <th>performances</th>\n",
       "      <th>updated</th>\n",
       "      <th>discounts</th>\n",
       "      <th>genre_tags</th>\n",
       "      <th>sub_venue</th>\n",
       "      <th>performers_number</th>\n",
       "      <th>url</th>\n",
       "      <th>description</th>\n",
       "      <th>twitter</th>\n",
       "    </tr>\n",
       "  </thead>\n",
       "  <tbody>\n",
       "    <tr>\n",
       "      <th>0</th>\n",
       "      <td>{'name': 'Space 1', 'capacity': 52, 'wheelchai...</td>\n",
       "      <td>fringe</td>\n",
       "      <td>{'strand_titles': [], 'subjects': [], 'keyword...</td>\n",
       "      <td>{'3fab1f75ce945eefaf6eecbf3b29615d1dfe49a0': {...</td>\n",
       "      <td>NaN</td>\n",
       "      <td>{'audio': None, 'audio_dates': None, 'signed':...</td>\n",
       "      <td>-3.186889</td>\n",
       "      <td>Theatre</td>\n",
       "      <td>Edinburgh Festival Fringe</td>\n",
       "      <td>NaN</td>\n",
       "      <td>...</td>\n",
       "      <td>Bacon</td>\n",
       "      <td>[{'start': '2019-08-03 15:05:00', 'end': '2019...</td>\n",
       "      <td>2019-08-15 22:36:20</td>\n",
       "      <td>{'two_for_one': True, 'group': False, 'friends...</td>\n",
       "      <td>New writing,Drama</td>\n",
       "      <td>NaN</td>\n",
       "      <td>4</td>\n",
       "      <td>https://api.edinburghfestivalcity.com/events/3...</td>\n",
       "      <td>Love that gives – and takes. Acclaimed interna...</td>\n",
       "      <td>@DoubleEdgeDrama</td>\n",
       "    </tr>\n",
       "    <tr>\n",
       "      <th>1</th>\n",
       "      <td>{'name': 'Fife Theatre', 'capacity': 40, 'whee...</td>\n",
       "      <td>fringe</td>\n",
       "      <td>{'strand_titles': [], 'subjects': [], 'keyword...</td>\n",
       "      <td>{'31f98435b9f38f4f6cd09dcf8e37976da2008f06': {...</td>\n",
       "      <td>NaN</td>\n",
       "      <td>{'audio': None, 'audio_dates': None, 'signed':...</td>\n",
       "      <td>-3.187675</td>\n",
       "      <td>Theatre</td>\n",
       "      <td>Edinburgh Festival Fringe</td>\n",
       "      <td>NaN</td>\n",
       "      <td>...</td>\n",
       "      <td>amendments: A Play on Words</td>\n",
       "      <td>[{'start': '2019-08-19 21:35:00', 'end': '2019...</td>\n",
       "      <td>2019-08-15 22:36:20</td>\n",
       "      <td>{'two_for_one': False, 'group': True, 'friends...</td>\n",
       "      <td>Comedy,Drama</td>\n",
       "      <td>NaN</td>\n",
       "      <td>2</td>\n",
       "      <td>https://api.edinburghfestivalcity.com/events/5...</td>\n",
       "      <td>John Chesterton works in a world where politic...</td>\n",
       "      <td>@middleweightTC</td>\n",
       "    </tr>\n",
       "    <tr>\n",
       "      <th>2</th>\n",
       "      <td>{'name': 'Upper Theatre (Round)', 'capacity': ...</td>\n",
       "      <td>fringe</td>\n",
       "      <td>{'strand_titles': [], 'subjects': [], 'keyword...</td>\n",
       "      <td>{'70e13c51425df6f289af04b724889bfb9dfa2e87': {...</td>\n",
       "      <td>NaN</td>\n",
       "      <td>{'audio': None, 'audio_dates': None, 'signed':...</td>\n",
       "      <td>-3.186844</td>\n",
       "      <td>Theatre</td>\n",
       "      <td>Edinburgh Festival Fringe</td>\n",
       "      <td>NaN</td>\n",
       "      <td>...</td>\n",
       "      <td>Midges</td>\n",
       "      <td>[{'start': '2019-08-12 19:25:00', 'end': '2019...</td>\n",
       "      <td>2019-08-15 22:36:20</td>\n",
       "      <td>{'two_for_one': False, 'group': False, 'friend...</td>\n",
       "      <td>Drama,Comedy</td>\n",
       "      <td>NaN</td>\n",
       "      <td>7</td>\n",
       "      <td>https://api.edinburghfestivalcity.com/events/e...</td>\n",
       "      <td>A comic Highland noir whodunnit. Midges, bitin...</td>\n",
       "      <td>NaN</td>\n",
       "    </tr>\n",
       "    <tr>\n",
       "      <th>3</th>\n",
       "      <td>{'name': 'Theatre 3', 'capacity': 42, 'wheelch...</td>\n",
       "      <td>fringe</td>\n",
       "      <td>{'strand_titles': [], 'subjects': [], 'keyword...</td>\n",
       "      <td>{'fe4d94e8549c30b60d1b9efaec5997c9e631e8ce': {...</td>\n",
       "      <td>NaN</td>\n",
       "      <td>{'audio': None, 'audio_dates': None, 'signed':...</td>\n",
       "      <td>-3.185542</td>\n",
       "      <td>Theatre</td>\n",
       "      <td>Edinburgh Festival Fringe</td>\n",
       "      <td>NaN</td>\n",
       "      <td>...</td>\n",
       "      <td>Voice of Authority</td>\n",
       "      <td>[{'start': '2019-08-02 13:05:00', 'end': '2019...</td>\n",
       "      <td>2019-08-15 22:36:20</td>\n",
       "      <td>{'two_for_one': True, 'group': True, 'friends'...</td>\n",
       "      <td>Comedy,Solo show</td>\n",
       "      <td>NaN</td>\n",
       "      <td>1</td>\n",
       "      <td>https://api.edinburghfestivalcity.com/events/2...</td>\n",
       "      <td>European premiere. Best of Fest award-winner, ...</td>\n",
       "      <td>@deantemple</td>\n",
       "    </tr>\n",
       "    <tr>\n",
       "      <th>4</th>\n",
       "      <td>{'name': 'Olive Studio', 'capacity': 40, 'whee...</td>\n",
       "      <td>fringe</td>\n",
       "      <td>{'strand_titles': [], 'subjects': [], 'keyword...</td>\n",
       "      <td>{'e27e98c3c79e6245a4709ebc45d06484d9467755': {...</td>\n",
       "      <td>NaN</td>\n",
       "      <td>{'audio': None, 'audio_dates': None, 'signed':...</td>\n",
       "      <td>-3.185546</td>\n",
       "      <td>Theatre</td>\n",
       "      <td>Edinburgh Festival Fringe</td>\n",
       "      <td>NaN</td>\n",
       "      <td>...</td>\n",
       "      <td>Apollo 11</td>\n",
       "      <td>[{'start': '2019-08-02 10:30:00', 'end': '2019...</td>\n",
       "      <td>2019-08-15 22:36:20</td>\n",
       "      <td>{'two_for_one': True, 'group': True, 'friends'...</td>\n",
       "      <td>Historical,New writing</td>\n",
       "      <td>NaN</td>\n",
       "      <td>8</td>\n",
       "      <td>https://api.edinburghfestivalcity.com/events/1...</td>\n",
       "      <td>On 20th July, 1969, thousands of people gather...</td>\n",
       "      <td>@NedFleeman</td>\n",
       "    </tr>\n",
       "  </tbody>\n",
       "</table>\n",
       "<p>5 rows × 34 columns</p>\n",
       "</div>"
      ],
      "text/plain": [
       "                                   performance_space festival_id  \\\n",
       "0  {'name': 'Space 1', 'capacity': 52, 'wheelchai...      fringe   \n",
       "1  {'name': 'Fife Theatre', 'capacity': 40, 'whee...      fringe   \n",
       "2  {'name': 'Upper Theatre (Round)', 'capacity': ...      fringe   \n",
       "3  {'name': 'Theatre 3', 'capacity': 42, 'wheelch...      fringe   \n",
       "4  {'name': 'Olive Studio', 'capacity': 40, 'whee...      fringe   \n",
       "\n",
       "                                          categories  \\\n",
       "0  {'strand_titles': [], 'subjects': [], 'keyword...   \n",
       "1  {'strand_titles': [], 'subjects': [], 'keyword...   \n",
       "2  {'strand_titles': [], 'subjects': [], 'keyword...   \n",
       "3  {'strand_titles': [], 'subjects': [], 'keyword...   \n",
       "4  {'strand_titles': [], 'subjects': [], 'keyword...   \n",
       "\n",
       "                                              images  description_teaser  \\\n",
       "0  {'3fab1f75ce945eefaf6eecbf3b29615d1dfe49a0': {...                 NaN   \n",
       "1  {'31f98435b9f38f4f6cd09dcf8e37976da2008f06': {...                 NaN   \n",
       "2  {'70e13c51425df6f289af04b724889bfb9dfa2e87': {...                 NaN   \n",
       "3  {'fe4d94e8549c30b60d1b9efaec5997c9e631e8ce': {...                 NaN   \n",
       "4  {'e27e98c3c79e6245a4709ebc45d06484d9467755': {...                 NaN   \n",
       "\n",
       "                                            disabled  longitude    genre  \\\n",
       "0  {'audio': None, 'audio_dates': None, 'signed':...  -3.186889  Theatre   \n",
       "1  {'audio': None, 'audio_dates': None, 'signed':...  -3.187675  Theatre   \n",
       "2  {'audio': None, 'audio_dates': None, 'signed':...  -3.186844  Theatre   \n",
       "3  {'audio': None, 'audio_dates': None, 'signed':...  -3.185542  Theatre   \n",
       "4  {'audio': None, 'audio_dates': None, 'signed':...  -3.185546  Theatre   \n",
       "\n",
       "                    festival  sub_title  ...                        title  \\\n",
       "0  Edinburgh Festival Fringe        NaN  ...                        Bacon   \n",
       "1  Edinburgh Festival Fringe        NaN  ...  amendments: A Play on Words   \n",
       "2  Edinburgh Festival Fringe        NaN  ...                       Midges   \n",
       "3  Edinburgh Festival Fringe        NaN  ...           Voice of Authority   \n",
       "4  Edinburgh Festival Fringe        NaN  ...                    Apollo 11   \n",
       "\n",
       "                                        performances              updated  \\\n",
       "0  [{'start': '2019-08-03 15:05:00', 'end': '2019...  2019-08-15 22:36:20   \n",
       "1  [{'start': '2019-08-19 21:35:00', 'end': '2019...  2019-08-15 22:36:20   \n",
       "2  [{'start': '2019-08-12 19:25:00', 'end': '2019...  2019-08-15 22:36:20   \n",
       "3  [{'start': '2019-08-02 13:05:00', 'end': '2019...  2019-08-15 22:36:20   \n",
       "4  [{'start': '2019-08-02 10:30:00', 'end': '2019...  2019-08-15 22:36:20   \n",
       "\n",
       "                                           discounts              genre_tags  \\\n",
       "0  {'two_for_one': True, 'group': False, 'friends...       New writing,Drama   \n",
       "1  {'two_for_one': False, 'group': True, 'friends...            Comedy,Drama   \n",
       "2  {'two_for_one': False, 'group': False, 'friend...            Drama,Comedy   \n",
       "3  {'two_for_one': True, 'group': True, 'friends'...        Comedy,Solo show   \n",
       "4  {'two_for_one': True, 'group': True, 'friends'...  Historical,New writing   \n",
       "\n",
       "  sub_venue  performers_number  \\\n",
       "0       NaN                  4   \n",
       "1       NaN                  2   \n",
       "2       NaN                  7   \n",
       "3       NaN                  1   \n",
       "4       NaN                  8   \n",
       "\n",
       "                                                 url  \\\n",
       "0  https://api.edinburghfestivalcity.com/events/3...   \n",
       "1  https://api.edinburghfestivalcity.com/events/5...   \n",
       "2  https://api.edinburghfestivalcity.com/events/e...   \n",
       "3  https://api.edinburghfestivalcity.com/events/2...   \n",
       "4  https://api.edinburghfestivalcity.com/events/1...   \n",
       "\n",
       "                                         description           twitter  \n",
       "0  Love that gives – and takes. Acclaimed interna...  @DoubleEdgeDrama  \n",
       "1  John Chesterton works in a world where politic...   @middleweightTC  \n",
       "2  A comic Highland noir whodunnit. Midges, bitin...               NaN  \n",
       "3  European premiere. Best of Fest award-winner, ...       @deantemple  \n",
       "4  On 20th July, 1969, thousands of people gather...       @NedFleeman  \n",
       "\n",
       "[5 rows x 34 columns]"
      ]
     },
     "execution_count": 3,
     "metadata": {},
     "output_type": "execute_result"
    }
   ],
   "source": [
    "fringe_2019.head()"
   ]
  },
  {
   "cell_type": "code",
   "execution_count": 5,
   "metadata": {},
   "outputs": [
    {
     "data": {
      "text/html": [
       "<div>\n",
       "<style scoped>\n",
       "    .dataframe tbody tr th:only-of-type {\n",
       "        vertical-align: middle;\n",
       "    }\n",
       "\n",
       "    .dataframe tbody tr th {\n",
       "        vertical-align: top;\n",
       "    }\n",
       "\n",
       "    .dataframe thead th {\n",
       "        text-align: right;\n",
       "    }\n",
       "</style>\n",
       "<table border=\"1\" class=\"dataframe\">\n",
       "  <thead>\n",
       "    <tr style=\"text-align: right;\">\n",
       "      <th></th>\n",
       "      <th>description_teaser</th>\n",
       "      <th>longitude</th>\n",
       "      <th>sub_title</th>\n",
       "      <th>fringe_first</th>\n",
       "      <th>latitude</th>\n",
       "      <th>non_english</th>\n",
       "      <th>year</th>\n",
       "      <th>sub_venue</th>\n",
       "      <th>performers_number</th>\n",
       "    </tr>\n",
       "  </thead>\n",
       "  <tbody>\n",
       "    <tr>\n",
       "      <th>count</th>\n",
       "      <td>0.0</td>\n",
       "      <td>4257.000000</td>\n",
       "      <td>0.0</td>\n",
       "      <td>0.0</td>\n",
       "      <td>4257.000000</td>\n",
       "      <td>0.0</td>\n",
       "      <td>4257.0</td>\n",
       "      <td>0.0</td>\n",
       "      <td>4257.000000</td>\n",
       "    </tr>\n",
       "    <tr>\n",
       "      <th>mean</th>\n",
       "      <td>NaN</td>\n",
       "      <td>-3.189240</td>\n",
       "      <td>NaN</td>\n",
       "      <td>NaN</td>\n",
       "      <td>55.948427</td>\n",
       "      <td>NaN</td>\n",
       "      <td>2019.0</td>\n",
       "      <td>NaN</td>\n",
       "      <td>4.807846</td>\n",
       "    </tr>\n",
       "    <tr>\n",
       "      <th>std</th>\n",
       "      <td>NaN</td>\n",
       "      <td>0.012095</td>\n",
       "      <td>NaN</td>\n",
       "      <td>NaN</td>\n",
       "      <td>0.007872</td>\n",
       "      <td>NaN</td>\n",
       "      <td>0.0</td>\n",
       "      <td>NaN</td>\n",
       "      <td>8.845754</td>\n",
       "    </tr>\n",
       "    <tr>\n",
       "      <th>min</th>\n",
       "      <td>NaN</td>\n",
       "      <td>-3.381604</td>\n",
       "      <td>NaN</td>\n",
       "      <td>NaN</td>\n",
       "      <td>55.608425</td>\n",
       "      <td>NaN</td>\n",
       "      <td>2019.0</td>\n",
       "      <td>NaN</td>\n",
       "      <td>1.000000</td>\n",
       "    </tr>\n",
       "    <tr>\n",
       "      <th>25%</th>\n",
       "      <td>NaN</td>\n",
       "      <td>-3.192293</td>\n",
       "      <td>NaN</td>\n",
       "      <td>NaN</td>\n",
       "      <td>55.945854</td>\n",
       "      <td>NaN</td>\n",
       "      <td>2019.0</td>\n",
       "      <td>NaN</td>\n",
       "      <td>1.000000</td>\n",
       "    </tr>\n",
       "    <tr>\n",
       "      <th>50%</th>\n",
       "      <td>NaN</td>\n",
       "      <td>-3.187818</td>\n",
       "      <td>NaN</td>\n",
       "      <td>NaN</td>\n",
       "      <td>55.948156</td>\n",
       "      <td>NaN</td>\n",
       "      <td>2019.0</td>\n",
       "      <td>NaN</td>\n",
       "      <td>2.000000</td>\n",
       "    </tr>\n",
       "    <tr>\n",
       "      <th>75%</th>\n",
       "      <td>NaN</td>\n",
       "      <td>-3.185542</td>\n",
       "      <td>NaN</td>\n",
       "      <td>NaN</td>\n",
       "      <td>55.950167</td>\n",
       "      <td>NaN</td>\n",
       "      <td>2019.0</td>\n",
       "      <td>NaN</td>\n",
       "      <td>5.000000</td>\n",
       "    </tr>\n",
       "    <tr>\n",
       "      <th>max</th>\n",
       "      <td>NaN</td>\n",
       "      <td>-2.990308</td>\n",
       "      <td>NaN</td>\n",
       "      <td>NaN</td>\n",
       "      <td>55.980849</td>\n",
       "      <td>NaN</td>\n",
       "      <td>2019.0</td>\n",
       "      <td>NaN</td>\n",
       "      <td>200.000000</td>\n",
       "    </tr>\n",
       "  </tbody>\n",
       "</table>\n",
       "</div>"
      ],
      "text/plain": [
       "       description_teaser    longitude  sub_title  fringe_first     latitude  \\\n",
       "count                 0.0  4257.000000        0.0           0.0  4257.000000   \n",
       "mean                  NaN    -3.189240        NaN           NaN    55.948427   \n",
       "std                   NaN     0.012095        NaN           NaN     0.007872   \n",
       "min                   NaN    -3.381604        NaN           NaN    55.608425   \n",
       "25%                   NaN    -3.192293        NaN           NaN    55.945854   \n",
       "50%                   NaN    -3.187818        NaN           NaN    55.948156   \n",
       "75%                   NaN    -3.185542        NaN           NaN    55.950167   \n",
       "max                   NaN    -2.990308        NaN           NaN    55.980849   \n",
       "\n",
       "       non_english    year  sub_venue  performers_number  \n",
       "count          0.0  4257.0        0.0        4257.000000  \n",
       "mean           NaN  2019.0        NaN           4.807846  \n",
       "std            NaN     0.0        NaN           8.845754  \n",
       "min            NaN  2019.0        NaN           1.000000  \n",
       "25%            NaN  2019.0        NaN           1.000000  \n",
       "50%            NaN  2019.0        NaN           2.000000  \n",
       "75%            NaN  2019.0        NaN           5.000000  \n",
       "max            NaN  2019.0        NaN         200.000000  "
      ]
     },
     "execution_count": 5,
     "metadata": {},
     "output_type": "execute_result"
    }
   ],
   "source": [
    "fringe_2019.describe()"
   ]
  },
  {
   "cell_type": "code",
   "execution_count": 4,
   "metadata": {
    "scrolled": true
   },
   "outputs": [
    {
     "name": "stdout",
     "output_type": "stream",
     "text": [
      "<class 'pandas.core.frame.DataFrame'>\n",
      "RangeIndex: 4257 entries, 0 to 4256\n",
      "Data columns (total 34 columns):\n",
      " #   Column              Non-Null Count  Dtype  \n",
      "---  ------              --------------  -----  \n",
      " 0   performance_space   4257 non-null   object \n",
      " 1   festival_id         4257 non-null   object \n",
      " 2   categories          4257 non-null   object \n",
      " 3   images              4257 non-null   object \n",
      " 4   description_teaser  0 non-null      float64\n",
      " 5   disabled            4257 non-null   object \n",
      " 6   longitude           4257 non-null   float64\n",
      " 7   genre               4257 non-null   object \n",
      " 8   festival            4257 non-null   object \n",
      " 9   sub_title           0 non-null      float64\n",
      " 10  artist              4257 non-null   object \n",
      " 11  status              4257 non-null   object \n",
      " 12  fringe_first        0 non-null      float64\n",
      " 13  venue               4257 non-null   object \n",
      " 14  website             4257 non-null   object \n",
      " 15  code                4257 non-null   object \n",
      " 16  latitude            4257 non-null   float64\n",
      " 17  warnings            4257 non-null   object \n",
      " 18  update_times        4257 non-null   object \n",
      " 19  country             4257 non-null   object \n",
      " 20  artist_type         4257 non-null   object \n",
      " 21  age_category        4257 non-null   object \n",
      " 22  non_english         0 non-null      float64\n",
      " 23  year                4257 non-null   int64  \n",
      " 24  title               4257 non-null   object \n",
      " 25  performances        4257 non-null   object \n",
      " 26  updated             4257 non-null   object \n",
      " 27  discounts           4257 non-null   object \n",
      " 28  genre_tags          3951 non-null   object \n",
      " 29  sub_venue           0 non-null      float64\n",
      " 30  performers_number   4257 non-null   int64  \n",
      " 31  url                 4257 non-null   object \n",
      " 32  description         4257 non-null   object \n",
      " 33  twitter             2671 non-null   object \n",
      "dtypes: float64(7), int64(2), object(25)\n",
      "memory usage: 1.1+ MB\n"
     ]
    }
   ],
   "source": [
    "fringe_2019.info()"
   ]
  },
  {
   "cell_type": "markdown",
   "metadata": {},
   "source": [
    "\n",
    "\n",
    "# 2. Data Exploration\n",
    "\n",
    "Explore: carry out a deeper exploration of the data. This includes looking at individual\n",
    "fields/variables to see the distribution of values they take (e.g. evenly distributed, bell curves,\n",
    "bi-modal) or how they are distributed in time. It also includes relationships between variables\n",
    "in your dataset: are there correlations?In which direction? Complex curves?\n"
   ]
  },
  {
   "cell_type": "markdown",
   "metadata": {},
   "source": [
    "## Cleaning"
   ]
  },
  {
   "cell_type": "markdown",
   "metadata": {},
   "source": [
    "Since the part I am responsible for in my group is to analyze data about genre, genre_tags, age_category, so in this assignment, I will only clean and analyse this part of the data"
   ]
  },
  {
   "cell_type": "code",
   "execution_count": 38,
   "metadata": {
    "scrolled": false
   },
   "outputs": [
    {
     "data": {
      "text/html": [
       "<div>\n",
       "<style scoped>\n",
       "    .dataframe tbody tr th:only-of-type {\n",
       "        vertical-align: middle;\n",
       "    }\n",
       "\n",
       "    .dataframe tbody tr th {\n",
       "        vertical-align: top;\n",
       "    }\n",
       "\n",
       "    .dataframe thead th {\n",
       "        text-align: right;\n",
       "    }\n",
       "</style>\n",
       "<table border=\"1\" class=\"dataframe\">\n",
       "  <thead>\n",
       "    <tr style=\"text-align: right;\">\n",
       "      <th></th>\n",
       "      <th>genre</th>\n",
       "      <th>genre_tags</th>\n",
       "      <th>age_category</th>\n",
       "    </tr>\n",
       "  </thead>\n",
       "  <tbody>\n",
       "    <tr>\n",
       "      <th>0</th>\n",
       "      <td>Theatre</td>\n",
       "      <td>New writing,Drama</td>\n",
       "      <td>14+</td>\n",
       "    </tr>\n",
       "    <tr>\n",
       "      <th>1</th>\n",
       "      <td>Theatre</td>\n",
       "      <td>Comedy,Drama</td>\n",
       "      <td>16+</td>\n",
       "    </tr>\n",
       "    <tr>\n",
       "      <th>2</th>\n",
       "      <td>Theatre</td>\n",
       "      <td>Drama,Comedy</td>\n",
       "      <td>12+</td>\n",
       "    </tr>\n",
       "    <tr>\n",
       "      <th>3</th>\n",
       "      <td>Theatre</td>\n",
       "      <td>Comedy,Solo show</td>\n",
       "      <td>16+</td>\n",
       "    </tr>\n",
       "    <tr>\n",
       "      <th>4</th>\n",
       "      <td>Theatre</td>\n",
       "      <td>Historical,New writing</td>\n",
       "      <td>12+</td>\n",
       "    </tr>\n",
       "    <tr>\n",
       "      <th>...</th>\n",
       "      <td>...</td>\n",
       "      <td>...</td>\n",
       "      <td>...</td>\n",
       "    </tr>\n",
       "    <tr>\n",
       "      <th>4252</th>\n",
       "      <td>Comedy</td>\n",
       "      <td>Theatre</td>\n",
       "      <td>16+</td>\n",
       "    </tr>\n",
       "    <tr>\n",
       "      <th>4253</th>\n",
       "      <td>Theatre</td>\n",
       "      <td>Immersive</td>\n",
       "      <td>14+</td>\n",
       "    </tr>\n",
       "    <tr>\n",
       "      <th>4254</th>\n",
       "      <td>Dance Physical Theatre and Circus</td>\n",
       "      <td>Contemporary</td>\n",
       "      <td>12+</td>\n",
       "    </tr>\n",
       "    <tr>\n",
       "      <th>4255</th>\n",
       "      <td>Events</td>\n",
       "      <td>Historical,Walk</td>\n",
       "      <td>16+</td>\n",
       "    </tr>\n",
       "    <tr>\n",
       "      <th>4256</th>\n",
       "      <td>Comedy</td>\n",
       "      <td>Stand-up,Storytelling</td>\n",
       "      <td>16+</td>\n",
       "    </tr>\n",
       "  </tbody>\n",
       "</table>\n",
       "<p>4257 rows × 3 columns</p>\n",
       "</div>"
      ],
      "text/plain": [
       "                                  genre              genre_tags age_category\n",
       "0                               Theatre       New writing,Drama          14+\n",
       "1                               Theatre            Comedy,Drama          16+\n",
       "2                               Theatre            Drama,Comedy          12+\n",
       "3                               Theatre        Comedy,Solo show          16+\n",
       "4                               Theatre  Historical,New writing          12+\n",
       "...                                 ...                     ...          ...\n",
       "4252                             Comedy                 Theatre          16+\n",
       "4253                            Theatre               Immersive          14+\n",
       "4254  Dance Physical Theatre and Circus            Contemporary          12+\n",
       "4255                             Events         Historical,Walk          16+\n",
       "4256                             Comedy   Stand-up,Storytelling          16+\n",
       "\n",
       "[4257 rows x 3 columns]"
      ]
     },
     "execution_count": 38,
     "metadata": {},
     "output_type": "execute_result"
    }
   ],
   "source": [
    "fringe_2019.loc[:, ['genre', 'genre_tags','age_category']]"
   ]
  },
  {
   "cell_type": "markdown",
   "metadata": {},
   "source": [
    "1. Check for null values."
   ]
  },
  {
   "cell_type": "code",
   "execution_count": 39,
   "metadata": {},
   "outputs": [
    {
     "data": {
      "text/plain": [
       "genre             0\n",
       "genre_tags      306\n",
       "age_category      0\n",
       "dtype: int64"
      ]
     },
     "execution_count": 39,
     "metadata": {},
     "output_type": "execute_result"
    }
   ],
   "source": [
    "fringe_2019.loc[:, ['genre', 'genre_tags','age_category']].isnull().sum()"
   ]
  },
  {
   "cell_type": "markdown",
   "metadata": {},
   "source": [
    "Fill the null values of genre_tags with Unknown."
   ]
  },
  {
   "cell_type": "code",
   "execution_count": 40,
   "metadata": {},
   "outputs": [],
   "source": [
    "fringe_2019[\"genre_tags\"].fillna('Unknown',inplace=True)"
   ]
  },
  {
   "cell_type": "markdown",
   "metadata": {},
   "source": [
    "2.  For convenience, change the data to int type"
   ]
  },
  {
   "cell_type": "code",
   "execution_count": 41,
   "metadata": {},
   "outputs": [],
   "source": [
    "fringe_2019[\"age_category\"] = fringe_2019.age_category.str.rstrip('+')\n",
    "fringe_2019[\"age_category\"] = fringe_2019['age_category'].astype(int)"
   ]
  },
  {
   "cell_type": "markdown",
   "metadata": {},
   "source": [
    "3. Now that my data is clean, and use some assert statements to check."
   ]
  },
  {
   "cell_type": "code",
   "execution_count": 42,
   "metadata": {},
   "outputs": [],
   "source": [
    "assert fringe_2019['age_category'].dtypes== int,\"The data type of age_category is int\"\n",
    "assert fringe_2019['age_category'].isnull().sum() == 0, \"There is no null value\""
   ]
  },
  {
   "cell_type": "markdown",
   "metadata": {},
   "source": [
    "## Graphs"
   ]
  },
  {
   "cell_type": "code",
   "execution_count": 43,
   "metadata": {},
   "outputs": [],
   "source": [
    "import seaborn as sns     \n",
    "import matplotlib.pyplot as plt\n",
    "from matplotlib.pyplot import MultipleLocator\n",
    "%matplotlib inline "
   ]
  },
  {
   "cell_type": "code",
   "execution_count": 44,
   "metadata": {},
   "outputs": [
    {
     "data": {
      "text/html": [
       "<div>\n",
       "<style scoped>\n",
       "    .dataframe tbody tr th:only-of-type {\n",
       "        vertical-align: middle;\n",
       "    }\n",
       "\n",
       "    .dataframe tbody tr th {\n",
       "        vertical-align: top;\n",
       "    }\n",
       "\n",
       "    .dataframe thead th {\n",
       "        text-align: right;\n",
       "    }\n",
       "</style>\n",
       "<table border=\"1\" class=\"dataframe\">\n",
       "  <thead>\n",
       "    <tr style=\"text-align: right;\">\n",
       "      <th></th>\n",
       "      <th>genre</th>\n",
       "      <th>genre_tags</th>\n",
       "      <th>age_category</th>\n",
       "    </tr>\n",
       "  </thead>\n",
       "  <tbody>\n",
       "    <tr>\n",
       "      <th>0</th>\n",
       "      <td>Theatre</td>\n",
       "      <td>New writing,Drama</td>\n",
       "      <td>14</td>\n",
       "    </tr>\n",
       "    <tr>\n",
       "      <th>1</th>\n",
       "      <td>Theatre</td>\n",
       "      <td>Comedy,Drama</td>\n",
       "      <td>16</td>\n",
       "    </tr>\n",
       "    <tr>\n",
       "      <th>2</th>\n",
       "      <td>Theatre</td>\n",
       "      <td>Drama,Comedy</td>\n",
       "      <td>12</td>\n",
       "    </tr>\n",
       "    <tr>\n",
       "      <th>3</th>\n",
       "      <td>Theatre</td>\n",
       "      <td>Comedy,Solo show</td>\n",
       "      <td>16</td>\n",
       "    </tr>\n",
       "    <tr>\n",
       "      <th>4</th>\n",
       "      <td>Theatre</td>\n",
       "      <td>Historical,New writing</td>\n",
       "      <td>12</td>\n",
       "    </tr>\n",
       "    <tr>\n",
       "      <th>...</th>\n",
       "      <td>...</td>\n",
       "      <td>...</td>\n",
       "      <td>...</td>\n",
       "    </tr>\n",
       "    <tr>\n",
       "      <th>4252</th>\n",
       "      <td>Comedy</td>\n",
       "      <td>Theatre</td>\n",
       "      <td>16</td>\n",
       "    </tr>\n",
       "    <tr>\n",
       "      <th>4253</th>\n",
       "      <td>Theatre</td>\n",
       "      <td>Immersive</td>\n",
       "      <td>14</td>\n",
       "    </tr>\n",
       "    <tr>\n",
       "      <th>4254</th>\n",
       "      <td>Dance Physical Theatre and Circus</td>\n",
       "      <td>Contemporary</td>\n",
       "      <td>12</td>\n",
       "    </tr>\n",
       "    <tr>\n",
       "      <th>4255</th>\n",
       "      <td>Events</td>\n",
       "      <td>Historical,Walk</td>\n",
       "      <td>16</td>\n",
       "    </tr>\n",
       "    <tr>\n",
       "      <th>4256</th>\n",
       "      <td>Comedy</td>\n",
       "      <td>Stand-up,Storytelling</td>\n",
       "      <td>16</td>\n",
       "    </tr>\n",
       "  </tbody>\n",
       "</table>\n",
       "<p>4257 rows × 3 columns</p>\n",
       "</div>"
      ],
      "text/plain": [
       "                                  genre              genre_tags  age_category\n",
       "0                               Theatre       New writing,Drama            14\n",
       "1                               Theatre            Comedy,Drama            16\n",
       "2                               Theatre            Drama,Comedy            12\n",
       "3                               Theatre        Comedy,Solo show            16\n",
       "4                               Theatre  Historical,New writing            12\n",
       "...                                 ...                     ...           ...\n",
       "4252                             Comedy                 Theatre            16\n",
       "4253                            Theatre               Immersive            14\n",
       "4254  Dance Physical Theatre and Circus            Contemporary            12\n",
       "4255                             Events         Historical,Walk            16\n",
       "4256                             Comedy   Stand-up,Storytelling            16\n",
       "\n",
       "[4257 rows x 3 columns]"
      ]
     },
     "execution_count": 44,
     "metadata": {},
     "output_type": "execute_result"
    }
   ],
   "source": [
    "fringe_2019.loc[:, ['genre', 'genre_tags','age_category']]"
   ]
  },
  {
   "cell_type": "code",
   "execution_count": 61,
   "metadata": {},
   "outputs": [
    {
     "data": {
      "image/png": "[encoded data removed]",
      "text/plain": [
       "<Figure size 1440x720 with 1 Axes>"
      ]
     },
     "metadata": {
      "needs_background": "light"
     },
     "output_type": "display_data"
    }
   ],
   "source": [
    "plt.subplots(figsize=(20, 10))\n",
    "myChart = sns.distplot(fringe_2019['age_category'])\n",
    "myChart.set_title('Distribution of age category',fontsize=14)\n",
    "plt.xlabel('age_category',fontsize=14)\n",
    "x_major_locator=MultipleLocator(1)\n",
    "ax=plt.gca()\n",
    "ax.xaxis.set_major_locator(x_major_locator)\n",
    "plt.xlim(0)\n",
    "plt.show()"
   ]
  },
  {
   "cell_type": "markdown",
   "metadata": {},
   "source": [
    "In the data, age_category means the age restriction. According to the graph above, We can see that the proportion of the age category of 12, 14, 16 are relatively high, which means that most of the age limits for participation in Edinburgh festivals are 12 +, 14 +, and 16 +. In addition, we can see that most activities have age limits."
   ]
  },
  {
   "cell_type": "code",
   "execution_count": 46,
   "metadata": {
    "scrolled": true
   },
   "outputs": [
    {
     "data": {
      "text/plain": [
       "Counter({'Theatre': 1101,\n",
       "         'Comedy': 1561,\n",
       "         'Dance Physical Theatre and Circus': 151,\n",
       "         'Music': 536,\n",
       "         'Musicals and Opera': 128,\n",
       "         \"Children's Shows\": 168,\n",
       "         'Cabaret and Variety': 182,\n",
       "         'Exhibitions': 56,\n",
       "         'Spoken Word': 155,\n",
       "         'Events': 219})"
      ]
     },
     "execution_count": 46,
     "metadata": {},
     "output_type": "execute_result"
    }
   ],
   "source": [
    "from collections import Counter\n",
    "result = Counter(fringe_2019['genre'])\n",
    "result"
   ]
  },
  {
   "cell_type": "code",
   "execution_count": 59,
   "metadata": {},
   "outputs": [
    {
     "data": {
      "text/plain": [
       "<BarContainer object of 10 artists>"
      ]
     },
     "execution_count": 59,
     "metadata": {},
     "output_type": "execute_result"
    },
    {
     "data": {
      "image/png": "[encoded data removed]",
      "text/plain": [
       "<Figure size 1440x720 with 1 Axes>"
      ]
     },
     "metadata": {
      "needs_background": "light"
     },
     "output_type": "display_data"
    }
   ],
   "source": [
    "plt.subplots(figsize=(20, 10))\n",
    "plt.xlabel('genre',fontsize=14)\n",
    "plt.ylabel('times',fontsize=14)\n",
    "plt.title('The relationship between genre and times',fontsize=14)\n",
    "frequency_calculated = result\n",
    "plt.bar(frequency_calculated.keys(), frequency_calculated.values())"
   ]
  },
  {
   "cell_type": "markdown",
   "metadata": {},
   "source": [
    "According to the graph above, we can see that some performances are held many times, but some are few, which may be related to the popularity of the performances. For example, the times of holding Theatre and Comedy is relatively high, which might means that the two genres are more popular."
   ]
  },
  {
   "cell_type": "markdown",
   "metadata": {},
   "source": [
    "(Due to too many tags, I will only show the top 10 about genre_tags)"
   ]
  },
  {
   "cell_type": "code",
   "execution_count": 48,
   "metadata": {},
   "outputs": [
    {
     "data": {
      "text/html": [
       "<div>\n",
       "<style scoped>\n",
       "    .dataframe tbody tr th:only-of-type {\n",
       "        vertical-align: middle;\n",
       "    }\n",
       "\n",
       "    .dataframe tbody tr th {\n",
       "        vertical-align: top;\n",
       "    }\n",
       "\n",
       "    .dataframe thead th {\n",
       "        text-align: right;\n",
       "    }\n",
       "</style>\n",
       "<table border=\"1\" class=\"dataframe\">\n",
       "  <thead>\n",
       "    <tr style=\"text-align: right;\">\n",
       "      <th></th>\n",
       "      <th>genre_top</th>\n",
       "      <th>times</th>\n",
       "    </tr>\n",
       "  </thead>\n",
       "  <tbody>\n",
       "    <tr>\n",
       "      <th>0</th>\n",
       "      <td>Stand-up</td>\n",
       "      <td>885</td>\n",
       "    </tr>\n",
       "    <tr>\n",
       "      <th>1</th>\n",
       "      <td>Comedy</td>\n",
       "      <td>530</td>\n",
       "    </tr>\n",
       "    <tr>\n",
       "      <th>2</th>\n",
       "      <td>New writing</td>\n",
       "      <td>385</td>\n",
       "    </tr>\n",
       "    <tr>\n",
       "      <th>3</th>\n",
       "      <td>Storytelling</td>\n",
       "      <td>377</td>\n",
       "    </tr>\n",
       "    <tr>\n",
       "      <th>4</th>\n",
       "      <td>Solo show</td>\n",
       "      <td>332</td>\n",
       "    </tr>\n",
       "    <tr>\n",
       "      <th>5</th>\n",
       "      <td>Unknown</td>\n",
       "      <td>306</td>\n",
       "    </tr>\n",
       "    <tr>\n",
       "      <th>6</th>\n",
       "      <td>Drama</td>\n",
       "      <td>253</td>\n",
       "    </tr>\n",
       "    <tr>\n",
       "      <th>7</th>\n",
       "      <td>Music</td>\n",
       "      <td>246</td>\n",
       "    </tr>\n",
       "    <tr>\n",
       "      <th>8</th>\n",
       "      <td>Theatre</td>\n",
       "      <td>187</td>\n",
       "    </tr>\n",
       "    <tr>\n",
       "      <th>9</th>\n",
       "      <td>Contemporary</td>\n",
       "      <td>182</td>\n",
       "    </tr>\n",
       "  </tbody>\n",
       "</table>\n",
       "</div>"
      ],
      "text/plain": [
       "      genre_top  times\n",
       "0      Stand-up    885\n",
       "1        Comedy    530\n",
       "2   New writing    385\n",
       "3  Storytelling    377\n",
       "4     Solo show    332\n",
       "5       Unknown    306\n",
       "6         Drama    253\n",
       "7         Music    246\n",
       "8       Theatre    187\n",
       "9  Contemporary    182"
      ]
     },
     "execution_count": 48,
     "metadata": {},
     "output_type": "execute_result"
    }
   ],
   "source": [
    "a= list(fringe_2019['genre_tags']) \n",
    "s1 = ','.join(str(n) for n in a)\n",
    "s2 = s1.split(',')\n",
    "\n",
    "from collections import Counter\n",
    "result1 = Counter(s2).most_common(10)\n",
    "from pandas.core.frame import DataFrame\n",
    "new_top = DataFrame(result1, columns=['genre_top', 'times']) \n",
    "new_top"
   ]
  },
  {
   "cell_type": "code",
   "execution_count": 58,
   "metadata": {
    "scrolled": false
   },
   "outputs": [
    {
     "data": {
      "image/png": "[encoded data removed]",
      "text/plain": [
       "<Figure size 1440x720 with 1 Axes>"
      ]
     },
     "metadata": {
      "needs_background": "light"
     },
     "output_type": "display_data"
    }
   ],
   "source": [
    "plt.figure(figsize=(20,10)) \n",
    "plt.bar('genre_top', 'times', data=new_top)\n",
    "plt.xlabel('genre_tags',fontsize=14)\n",
    "plt.ylabel('times',fontsize=14)\n",
    "\n",
    "plt.title('The relationship between genre_tags and times',fontsize=14)\n",
    "plt.show()"
   ]
  },
  {
   "cell_type": "markdown",
   "metadata": {},
   "source": [
    "According to the graph above, we can see that there are relatively more performances with the tag of Stand-up, which might mean that genres with this tag are more popular."
   ]
  },
  {
   "cell_type": "code",
   "execution_count": 70,
   "metadata": {
    "scrolled": false
   },
   "outputs": [
    {
     "data": {
      "image/png": "[encoded data removed]",
      "text/plain": [
       "<Figure size 1440x720 with 1 Axes>"
      ]
     },
     "metadata": {
      "needs_background": "light"
     },
     "output_type": "display_data"
    }
   ],
   "source": [
    "plt.subplots(figsize=(20, 10))\n",
    "sns.boxplot(x='genre', y='age_category',data= fringe_2019 ,palette='husl')\n",
    "plt.xlabel('genre',fontsize=14)\n",
    "plt.ylabel('age_category',fontsize=14)\n",
    "\n",
    "plt.title('The relationship between genre and age_category',fontsize=14)\n",
    "plt.show()"
   ]
  },
  {
   "cell_type": "markdown",
   "metadata": {},
   "source": [
    "According to the graph above, we can see that some performances have a wide age limit, but some are very small. For example, the range of age limit of Events, Exhibitions and Music are relatively large, but Cabaret and Variety has the highest requirement of age limit. In addition, as can be seen from the outliers, a small part of each genre of performance is not age limited. "
   ]
  },
  {
   "cell_type": "code",
   "execution_count": 51,
   "metadata": {},
   "outputs": [
    {
     "data": {
      "text/html": [
       "<div>\n",
       "<style scoped>\n",
       "    .dataframe tbody tr th:only-of-type {\n",
       "        vertical-align: middle;\n",
       "    }\n",
       "\n",
       "    .dataframe tbody tr th {\n",
       "        vertical-align: top;\n",
       "    }\n",
       "\n",
       "    .dataframe thead th {\n",
       "        text-align: right;\n",
       "    }\n",
       "</style>\n",
       "<table border=\"1\" class=\"dataframe\">\n",
       "  <thead>\n",
       "    <tr style=\"text-align: right;\">\n",
       "      <th></th>\n",
       "      <th>Comedy</th>\n",
       "      <th>Theatre</th>\n",
       "      <th>Music</th>\n",
       "      <th>Events</th>\n",
       "      <th>Cabaret and Variety</th>\n",
       "      <th>Children's Shows</th>\n",
       "      <th>Dance Physical Theatre and Circus</th>\n",
       "      <th>Spoken Word</th>\n",
       "      <th>Musicals and Opera</th>\n",
       "      <th>Exhibitions</th>\n",
       "    </tr>\n",
       "  </thead>\n",
       "  <tbody>\n",
       "    <tr>\n",
       "      <th>2017</th>\n",
       "      <td>1331</td>\n",
       "      <td>1002</td>\n",
       "      <td>487</td>\n",
       "      <td>220</td>\n",
       "      <td>160</td>\n",
       "      <td>157</td>\n",
       "      <td>138</td>\n",
       "      <td>130</td>\n",
       "      <td>117</td>\n",
       "      <td>53</td>\n",
       "    </tr>\n",
       "    <tr>\n",
       "      <th>2018</th>\n",
       "      <td>1408</td>\n",
       "      <td>1016</td>\n",
       "      <td>524</td>\n",
       "      <td>213</td>\n",
       "      <td>217</td>\n",
       "      <td>154</td>\n",
       "      <td>122</td>\n",
       "      <td>140</td>\n",
       "      <td>136</td>\n",
       "      <td>55</td>\n",
       "    </tr>\n",
       "    <tr>\n",
       "      <th>2019</th>\n",
       "      <td>1561</td>\n",
       "      <td>1101</td>\n",
       "      <td>536</td>\n",
       "      <td>219</td>\n",
       "      <td>182</td>\n",
       "      <td>168</td>\n",
       "      <td>151</td>\n",
       "      <td>155</td>\n",
       "      <td>128</td>\n",
       "      <td>56</td>\n",
       "    </tr>\n",
       "  </tbody>\n",
       "</table>\n",
       "</div>"
      ],
      "text/plain": [
       "      Comedy  Theatre  Music  Events  Cabaret and Variety  Children's Shows  \\\n",
       "2017    1331     1002    487     220                  160               157   \n",
       "2018    1408     1016    524     213                  217               154   \n",
       "2019    1561     1101    536     219                  182               168   \n",
       "\n",
       "      Dance Physical Theatre and Circus  Spoken Word  Musicals and Opera  \\\n",
       "2017                                138          130                 117   \n",
       "2018                                122          140                 136   \n",
       "2019                                151          155                 128   \n",
       "\n",
       "      Exhibitions  \n",
       "2017           53  \n",
       "2018           55  \n",
       "2019           56  "
      ]
     },
     "execution_count": 51,
     "metadata": {},
     "output_type": "execute_result"
    }
   ],
   "source": [
    "result_2017 = Counter(fringe_2017['genre']).most_common()\n",
    "new_genre2017 = DataFrame(result_2017, columns=['genre', '2017']) \n",
    "result_2018 = Counter(fringe_2018['genre']).most_common()\n",
    "new_genre2018 = DataFrame(result_2018, columns=['genre', '2018']) \n",
    "result_2019 = Counter(fringe_2019['genre']).most_common()\n",
    "new_genre2019 = DataFrame(result_2019, columns=['genre', '2019']) \n",
    "\n",
    "new_genre2019.set_index(['genre'], inplace=True)\n",
    "new_genre2018.set_index(['genre'], inplace=True)\n",
    "new_genre2017.set_index(['genre'], inplace=True)\n",
    "\n",
    "data = new_genre2017.join([new_genre2018,new_genre2019],how='outer')\n",
    "data = data.T\n",
    "data"
   ]
  },
  {
   "cell_type": "code",
   "execution_count": 54,
   "metadata": {},
   "outputs": [
    {
     "data": {
      "text/plain": [
       "Text(0.5, 1.0, 'The relationship between years and genres')"
      ]
     },
     "execution_count": 54,
     "metadata": {},
     "output_type": "execute_result"
    },
    {
     "data": {
      "image/png": "[encoded data removed]",
      "text/plain": [
       "<Figure size 1440x720 with 1 Axes>"
      ]
     },
     "metadata": {
      "needs_background": "light"
     },
     "output_type": "display_data"
    }
   ],
   "source": [
    "import matplotlib\n",
    "import numpy as np\n",
    "from  matplotlib import pyplot as plt\n",
    "%matplotlib inline \n",
    "\n",
    "matplotlib.rc('figure', figsize = (20, 10))\n",
    "matplotlib.rc('axes', grid = False)\n",
    "matplotlib.rc('axes', facecolor = 'White')\n",
    "data.plot()\n",
    "plt.ylabel('times',fontsize=14)\n",
    "plt.title('The relationship between years and genres',fontsize=14)"
   ]
  },
  {
   "cell_type": "markdown",
   "metadata": {},
   "source": [
    "According to the graph above, we can see that with the change of years, the holding times of comedy, theatre and music has an upward trend, but other genres remain stable."
   ]
  },
  {
   "cell_type": "markdown",
   "metadata": {},
   "source": [
    "\n",
    "\n",
    "# 3. Reflect and Hypothesise\n",
    "\n",
    "Reflect and Hypothesise: What do you think might be behind the relationships and\n",
    "distributions that you have found? How does your data relate to the world?In short, what\n",
    "hypotheses came up as you explored the data, and how would you go about testing them? "
   ]
  },
  {
   "cell_type": "markdown",
   "metadata": {},
   "source": [
    "\n",
    "\n",
    "### Reflect\n",
    "\n",
    "Regarding the set of data that I analyze, I think there are some subtle correlations and obvious correlations, besides development trends. In addition, we can also discover future development trends and potential content.\n",
    "1. Subtle correlation: For example, about the data of genre and genre_tags, we can clearly see that the times of some activities is very high or very low, which may be related to the popularity.\n",
    "2. Obvious correlation: The relationship between age restriction and genre is obvious, such as children's activities, which are restricted to a small age group. \n",
    "3. From the graph about the relationship between years and genres, we can infer future trends. The graph shows an upward trend, which might mean that certain types of activities will still rise in the future.\n",
    "4. From these contents, it may be possible to find people's preferences for participating in performances, job opportunities, and future development trends of related jobs. In addition, it can also analyze which activities are not popular with the public, and their development potential, but these need to be further explored."
   ]
  },
  {
   "cell_type": "markdown",
   "metadata": {},
   "source": [
    "### Hypotheses\n",
    "\n",
    "1. Comedy is the most popular event, because the graph shows that it has been held the most. But it may be related to the duration of the event and the cost of holding the event. For example, the number of exhibitions is very small. However, this may be because it takes a long time each time and does not mean that it is not popular. So I will check the approximate duration of these events and the rental cost of the venue.\n",
    "\n",
    "\n",
    "2. Comedy artists have more job opportunities. Because there are more such performances. I will check the number of artists in these performances, and infer whether the competition is fierce.\n",
    "\n",
    "\n",
    "3. Workers in children's shows have fewer job opportunities. Because most events have age restrictions and children's shows are held less frequently. I will check the number of workers in these activities and check whether they are also engaged in other types of performances.\n",
    "\n",
    "\n",
    "4. If there is no impact of the epidemic, as time grows, the times of holding these performances will increase, especially comedy. This may be related to people's increasing living standards and requires more advanced algorithms to predict future trends."
   ]
  },
  {
   "cell_type": "code",
   "execution_count": null,
   "metadata": {},
   "outputs": [],
   "source": []
  }
 ],
 "metadata": {
  "kernelspec": {
   "display_name": "Python 3",
   "language": "python",
   "name": "python3"
  },
  "language_info": {
   "codemirror_mode": {
    "name": "ipython",
    "version": 3
   },
   "file_extension": ".py",
   "mimetype": "text/x-python",
   "name": "python",
   "nbconvert_exporter": "python",
   "pygments_lexer": "ipython3",
   "version": "3.7.6"
  }
 },
 "nbformat": 4,
 "nbformat_minor": 2
}

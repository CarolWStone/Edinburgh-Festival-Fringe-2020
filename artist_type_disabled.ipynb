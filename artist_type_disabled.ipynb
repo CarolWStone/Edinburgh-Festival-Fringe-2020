{
 "cells": [
  {
   "cell_type": "markdown",
   "metadata": {},
   "source": [
    "# Analyze the proportion of artist_type (company) and disabled service"
   ]
  },
  {
   "cell_type": "code",
   "execution_count": 1,
   "metadata": {},
   "outputs": [],
   "source": [
    "#import sys # never mind these two commands.\n",
    "#sys.path.append('d:/anaconda/lib/site-packages')\n",
    "import json\n",
    "import csv\n",
    "from collections import Counter  #Import a counting method\n",
    "import pandas as pd\n",
    "import seaborn as sns\n",
    "import matplotlib.pyplot as plt"
   ]
  },
  {
   "cell_type": "code",
   "execution_count": 2,
   "metadata": {},
   "outputs": [
    {
     "data": {
      "text/plain": [
       "dict_keys(['audio', 'audio_dates', 'signed', 'signed_dates', 'captioning', 'captioning_dates', 'other_services', 'other_services_dates', 'other_services_information'])"
      ]
     },
     "execution_count": 2,
     "metadata": {},
     "output_type": "execute_result"
    }
   ],
   "source": [
    "with open('fringe_2019.json') as json_file:\n",
    "    fringe_2019 = json.load(json_file)\n",
    "\n",
    "with open('fringe_2018.json') as json_file:\n",
    "    fringe_2018 = json.load(json_file)\n",
    "\n",
    "with open('fringe_2017.json') as json_file:\n",
    "    fringe_2017 = json.load(json_file)\n",
    "json_file.close()\n",
    "fringe_2019[0]['disabled'].keys()\n",
    "#Cheek the key elements of disable"
   ]
  },
  {
   "cell_type": "code",
   "execution_count": 3,
   "metadata": {},
   "outputs": [],
   "source": [
    "#The number of key elements == true is calculated\n",
    "def countDisabled(data):\n",
    "    disabled = {'year': 0,\n",
    "                'audio': 0,\n",
    "                'audio_dates': 0,\n",
    "                'signed': 0,\n",
    "                'signed_dates': 0,\n",
    "                'captioning': 0,\n",
    "                'captioning_dates': 0,\n",
    "                'other_services': 0,\n",
    "                'other_services_dates': 0,\n",
    "                'other_services_information': 0,\n",
    "                'total': 0,\n",
    "                'no_services': 0\n",
    "               }\n",
    "\n",
    "    for item in data:\n",
    "        flag = 0\n",
    "        for k in item['disabled']:\n",
    "            if item['disabled'][k] == True:\n",
    "                disabled[k] += 1\n",
    "                flag = 1\n",
    "        disabled['total'] += flag\n",
    "\n",
    "    disabled['no_services'] = len(data) - disabled['total']\n",
    "    disabled['year'] = data[0]['year']\n",
    "\n",
    "    return disabled\n",
    "\n",
    "count_2019 = countDisabled(fringe_2019)\n",
    "count_2018 = countDisabled(fringe_2018)\n",
    "count_2017 = countDisabled(fringe_2017)"
   ]
  },
  {
   "cell_type": "code",
   "execution_count": 4,
   "metadata": {},
   "outputs": [],
   "source": [
    "#Save the calculated number of each element as a CSV file for later use\n",
    "data = []\n",
    "data.append(count_2019)\n",
    "data.append(count_2018)\n",
    "data.append(count_2017)\n",
    "\n",
    "with open('disabled2019.csv','w',newline='',encoding='utf-8')as f:\n",
    "    fieldname = list(count_2019.keys())\n",
    "    writer = csv.DictWriter(f,fieldnames=fieldname)\n",
    "    writer.writeheader()\n",
    "    for i in data:\n",
    "        writer.writerow(i)\n",
    "with open('disabled2018.csv','w',newline='',encoding='utf-8')as f:\n",
    "    fieldname = list(count_2018.keys())\n",
    "    writer = csv.DictWriter(f,fieldnames=fieldname)\n",
    "    writer.writeheader()\n",
    "    for i in data:\n",
    "        writer.writerow(i)\n",
    "with open('disabled2017.csv','w',newline='',encoding='utf-8')as f:\n",
    "    fieldname = list(count_2017.keys())\n",
    "    writer = csv.DictWriter(f,fieldnames=fieldname)\n",
    "    writer.writeheader()\n",
    "    for i in data:\n",
    "        writer.writerow(i)"
   ]
  },
  {
   "cell_type": "markdown",
   "metadata": {},
   "source": [
    "# Deeper analysis of activities that provide accessible services each year\n",
    "First of all, find out all of the activities that provide accessible services each year."
   ]
  },
  {
   "cell_type": "code",
   "execution_count": 5,
   "metadata": {},
   "outputs": [],
   "source": [
    "def recordDisabled(data):\n",
    "    record = []\n",
    "    for item in data:\n",
    "        for k in item['disabled']:\n",
    "            if item['disabled'][k] == True:\n",
    "                record.append(item)\n",
    "                break\n",
    "    return record\n",
    "\n",
    "disabled_2019 = recordDisabled(fringe_2019)\n",
    "disabled_2018 = recordDisabled(fringe_2018)\n",
    "disabled_2017 = recordDisabled(fringe_2017)"
   ]
  },
  {
   "cell_type": "code",
   "execution_count": 6,
   "metadata": {},
   "outputs": [],
   "source": [
    "#1. Find out the companies of these activities.\n",
    "def countCompany(data):\n",
    "    company = []\n",
    "    count = []\n",
    "    for item in data:\n",
    "        company.append(item['artist_type'])\n",
    "\n",
    "    count = dict(Counter(company))\n",
    "    count['year'] = data[0]['year']\n",
    "    \n",
    "    return count\n",
    "\n",
    "company_2019 = countCompany(disabled_2019)\n",
    "company_2018 = countCompany(disabled_2018)\n",
    "company_2017 = countCompany(disabled_2017)"
   ]
  },
  {
   "cell_type": "code",
   "execution_count": 7,
   "metadata": {},
   "outputs": [
    {
     "data": {
      "text/plain": [
       "3"
      ]
     },
     "execution_count": 7,
     "metadata": {},
     "output_type": "execute_result"
    }
   ],
   "source": [
    "data = []\n",
    "data.append(company_2019)\n",
    "data.append(company_2018)\n",
    "data.append(company_2017)\n",
    "len(data)"
   ]
  },
  {
   "cell_type": "code",
   "execution_count": 8,
   "metadata": {},
   "outputs": [
    {
     "data": {
      "text/html": [
       "<div>\n",
       "<style scoped>\n",
       "    .dataframe tbody tr th:only-of-type {\n",
       "        vertical-align: middle;\n",
       "    }\n",
       "\n",
       "    .dataframe tbody tr th {\n",
       "        vertical-align: top;\n",
       "    }\n",
       "\n",
       "    .dataframe thead th {\n",
       "        text-align: right;\n",
       "    }\n",
       "</style>\n",
       "<table border=\"1\" class=\"dataframe\">\n",
       "  <thead>\n",
       "    <tr style=\"text-align: right;\">\n",
       "      <th></th>\n",
       "      <th>Amateur Company</th>\n",
       "      <th>Professional company</th>\n",
       "      <th>Semi-professional company</th>\n",
       "      <th>Student/Youth company</th>\n",
       "      <th>year</th>\n",
       "    </tr>\n",
       "  </thead>\n",
       "  <tbody>\n",
       "    <tr>\n",
       "      <th>0</th>\n",
       "      <td>10</td>\n",
       "      <td>167</td>\n",
       "      <td>23</td>\n",
       "      <td>9</td>\n",
       "      <td>2019</td>\n",
       "    </tr>\n",
       "    <tr>\n",
       "      <th>1</th>\n",
       "      <td>11</td>\n",
       "      <td>129</td>\n",
       "      <td>21</td>\n",
       "      <td>4</td>\n",
       "      <td>2018</td>\n",
       "    </tr>\n",
       "    <tr>\n",
       "      <th>2</th>\n",
       "      <td>2</td>\n",
       "      <td>100</td>\n",
       "      <td>10</td>\n",
       "      <td>7</td>\n",
       "      <td>2017</td>\n",
       "    </tr>\n",
       "  </tbody>\n",
       "</table>\n",
       "</div>"
      ],
      "text/plain": [
       "   Amateur Company  Professional company  Semi-professional company  \\\n",
       "0               10                   167                         23   \n",
       "1               11                   129                         21   \n",
       "2                2                   100                         10   \n",
       "\n",
       "   Student/Youth company  year  \n",
       "0                      9  2019  \n",
       "1                      4  2018  \n",
       "2                      7  2017  "
      ]
     },
     "execution_count": 8,
     "metadata": {},
     "output_type": "execute_result"
    }
   ],
   "source": [
    "#put all the data for the last three years in one table\n",
    "disabled_company = pd.DataFrame(data)\n",
    "disabled_company"
   ]
  },
  {
   "cell_type": "code",
   "execution_count": 9,
   "metadata": {},
   "outputs": [],
   "source": [
    "fieldname = []\n",
    "for item in data:\n",
    "    fieldname += list(item.keys())\n",
    "fieldname = list(Counter(fieldname))\n",
    "\n",
    "for item in data:\n",
    "    for i in range(0, len(fieldname)):\n",
    "        if fieldname[i] not in item.keys():\n",
    "            item[fieldname[i]] = 0\n",
    "\n",
    "with open('disabled_company.csv','w',newline='',encoding='utf-8')as f:\n",
    "    writer = csv.DictWriter(f,fieldnames=fieldname)\n",
    "    writer.writeheader()\n",
    "    for i in data:\n",
    "        writer.writerow(i)"
   ]
  },
  {
   "cell_type": "code",
   "execution_count": 10,
   "metadata": {},
   "outputs": [],
   "source": [
    "#Make a table according to the annual companies and services，That will show cross-data between the company and the service\n",
    "def servicesInCompany(data):\n",
    "    company = []\n",
    "    services_company = {}\n",
    "    \n",
    "    for item in data:\n",
    "        company.append(item['artist_type'])\n",
    "\n",
    "    company = list(set(company))\n",
    "    services_company = dict.fromkeys(tuple(company))\n",
    "    \n",
    "    for k in services_company.keys():\n",
    "        services_company[k] = {'audio': 0,\n",
    "                              'signed': 0,\n",
    "                              'captioning': 0,\n",
    "                              'other_services': 0,\n",
    "                             }\n",
    "    \n",
    "    for item in data:\n",
    "        temp_comp = item['artist_type']\n",
    "        for service in item['disabled']:\n",
    "            if item['disabled'][service]==True:\n",
    "                services_company[temp_comp][service] += 1\n",
    "    \n",
    "    return services_company"
   ]
  },
  {
   "cell_type": "code",
   "execution_count": 11,
   "metadata": {},
   "outputs": [],
   "source": [
    "services_2019 = servicesInCompany(disabled_2019)\n",
    "services_2018 = servicesInCompany(disabled_2018)\n",
    "services_2017 = servicesInCompany(disabled_2017)"
   ]
  },
  {
   "cell_type": "code",
   "execution_count": 12,
   "metadata": {},
   "outputs": [],
   "source": [
    "servicesC_2019 = pd.DataFrame(services_2019)\n",
    "servicesC_2019.to_csv('servicesCompany_2019.csv')\n",
    "servicesC_2018 = pd.DataFrame(services_2018)\n",
    "servicesC_2018.to_csv('servicesCompany_2018.csv')\n",
    "servicesC_2017 = pd.DataFrame(services_2017)\n",
    "servicesC_2017.to_csv('servicesCompany_2017.csv')"
   ]
  },
  {
   "cell_type": "code",
   "execution_count": 13,
   "metadata": {},
   "outputs": [
    {
     "data": {
      "text/html": [
       "<div>\n",
       "<style scoped>\n",
       "    .dataframe tbody tr th:only-of-type {\n",
       "        vertical-align: middle;\n",
       "    }\n",
       "\n",
       "    .dataframe tbody tr th {\n",
       "        vertical-align: top;\n",
       "    }\n",
       "\n",
       "    .dataframe thead th {\n",
       "        text-align: right;\n",
       "    }\n",
       "</style>\n",
       "<table border=\"1\" class=\"dataframe\">\n",
       "  <thead>\n",
       "    <tr style=\"text-align: right;\">\n",
       "      <th></th>\n",
       "      <th>Professional company</th>\n",
       "      <th>Student/Youth company</th>\n",
       "      <th>Amateur Company</th>\n",
       "      <th>Semi-professional company</th>\n",
       "    </tr>\n",
       "  </thead>\n",
       "  <tbody>\n",
       "    <tr>\n",
       "      <th>audio</th>\n",
       "      <td>11</td>\n",
       "      <td>1</td>\n",
       "      <td>0</td>\n",
       "      <td>1</td>\n",
       "    </tr>\n",
       "    <tr>\n",
       "      <th>signed</th>\n",
       "      <td>65</td>\n",
       "      <td>0</td>\n",
       "      <td>2</td>\n",
       "      <td>2</td>\n",
       "    </tr>\n",
       "    <tr>\n",
       "      <th>captioning</th>\n",
       "      <td>74</td>\n",
       "      <td>2</td>\n",
       "      <td>2</td>\n",
       "      <td>10</td>\n",
       "    </tr>\n",
       "    <tr>\n",
       "      <th>other_services</th>\n",
       "      <td>58</td>\n",
       "      <td>7</td>\n",
       "      <td>7</td>\n",
       "      <td>12</td>\n",
       "    </tr>\n",
       "  </tbody>\n",
       "</table>\n",
       "</div>"
      ],
      "text/plain": [
       "                Professional company  Student/Youth company  Amateur Company  \\\n",
       "audio                             11                      1                0   \n",
       "signed                            65                      0                2   \n",
       "captioning                        74                      2                2   \n",
       "other_services                    58                      7                7   \n",
       "\n",
       "                Semi-professional company  \n",
       "audio                                   1  \n",
       "signed                                  2  \n",
       "captioning                             10  \n",
       "other_services                         12  "
      ]
     },
     "execution_count": 13,
     "metadata": {},
     "output_type": "execute_result"
    }
   ],
   "source": [
    "servicesC_2019 #Generate a two-dimensional table with company type on the X axis and service type on the Y axis"
   ]
  },
  {
   "cell_type": "markdown",
   "metadata": {},
   "source": [
    "The data should be viewed from the perspective of the company, because there are a large number of professional companies, so it is not fair if the companies compare with each other. So we're going to calculate in the last 3 years what percentage of the company supports various services."
   ]
  },
  {
   "cell_type": "markdown",
   "metadata": {},
   "source": [
    "I plan to use a pie chart in the final presentation"
   ]
  },
  {
   "cell_type": "code",
   "execution_count": 15,
   "metadata": {},
   "outputs": [
    {
     "data": {
      "image/png": "[encoded data removed]",
      "text/plain": [
       "<Figure size 432x288 with 1 Axes>"
      ]
     },
     "metadata": {},
     "output_type": "display_data"
    },
    {
     "data": {
      "image/png": "[encoded data removed]",
      "text/plain": [
       "<Figure size 432x288 with 1 Axes>"
      ]
     },
     "metadata": {},
     "output_type": "display_data"
    },
    {
     "data": {
      "image/png": "[encoded data removed]",
      "text/plain": [
       "<Figure size 432x288 with 1 Axes>"
      ]
     },
     "metadata": {},
     "output_type": "display_data"
    },
    {
     "data": {
      "image/png": "[encoded data removed]",
      "text/plain": [
       "<Figure size 432x288 with 1 Axes>"
      ]
     },
     "metadata": {},
     "output_type": "display_data"
    }
   ],
   "source": [
    "labels=['audio','signed','captioning','other_services']\n",
    "for i in servicesC_2019.columns:\n",
    "    X=servicesC_2019[i]\n",
    "    ig = plt.figure()\n",
    "    plt.pie(X,labels=labels,autopct='%1.2f%%') \n",
    "    plt.title(i+'for all kinds of disabled services')\n",
    "    plt.show()  "
   ]
  },
  {
   "cell_type": "markdown",
   "metadata": {},
   "source": [
    "The picture above shows the proportion of various services in the company.\n",
    "Professional companies are more comprehensive, can cover a variety of services.\n",
    "Most companies do a good job of including other services.\n",
    "This gives us a hint about certain types of companies that you can go to if you want to find a company that can serve disabled.\n",
    "And the one that needs the most attention is Audio, which is supported by very few companies. Accessibility could be helped if such services could be strengthened in the future."
   ]
  },
  {
   "cell_type": "code",
   "execution_count": null,
   "metadata": {},
   "outputs": [],
   "source": []
  }
 ],
 "metadata": {
  "kernelspec": {
   "display_name": "Python 3",
   "language": "python",
   "name": "python3"
  },
  "language_info": {
   "codemirror_mode": {
    "name": "ipython",
    "version": 3
   },
   "file_extension": ".py",
   "mimetype": "text/x-python",
   "name": "python",
   "nbconvert_exporter": "python",
   "pygments_lexer": "ipython3",
   "version": "3.7.6"
  }
 },
 "nbformat": 4,
 "nbformat_minor": 4
}

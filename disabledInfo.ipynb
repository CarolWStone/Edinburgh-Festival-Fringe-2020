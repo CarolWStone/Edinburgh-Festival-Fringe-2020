{
 "cells": [
  {
   "cell_type": "markdown",
   "metadata": {},
   "source": [
    "# Analysis of Activities that Provide Accessible Services for the Disabled\n",
    "\n",
    "This notebook focus on information about activities that provide accessible services for the disabled."
   ]
  },
  {
   "cell_type": "code",
   "execution_count": 1,
   "metadata": {},
   "outputs": [],
   "source": [
    "import sys # never mind these two commands.\n",
    "sys.path.append('d:/anaconda/lib/site-packages')\n",
    "import json\n",
    "import csv\n",
    "from collections import Counter\n",
    "import pandas as pd\n",
    "import seaborn as sns\n",
    "import matplotlib.pyplot as plt"
   ]
  },
  {
   "cell_type": "code",
   "execution_count": 2,
   "metadata": {},
   "outputs": [],
   "source": [
    "with open('fringe_2019.json') as json_file:\n",
    "    fringe_2019 = json.load(json_file)\n",
    "\n",
    "with open('fringe_2018.json') as json_file:\n",
    "    fringe_2018 = json.load(json_file)\n",
    "    \n",
    "with open('fringe_2017.json') as json_file:\n",
    "    fringe_2017 = json.load(json_file)\n",
    "    \n",
    "with open('fringe_2016.json') as json_file:\n",
    "    fringe_2016 = json.load(json_file)\n",
    "    \n",
    "with open('fringe_2015.json') as json_file:\n",
    "    fringe_2015 = json.load(json_file)\n",
    "    \n",
    "with open('fringe_2014.json') as json_file:\n",
    "    fringe_2014 = json.load(json_file)\n",
    "    \n",
    "with open('fringe_2013.json') as json_file:\n",
    "    fringe_2013 = json.load(json_file)\n",
    "    \n",
    "with open('fringe_2012.json') as json_file:\n",
    "    fringe_2012 = json.load(json_file)\n",
    "\n",
    "json_file.close()"
   ]
  },
  {
   "cell_type": "markdown",
   "metadata": {},
   "source": [
    "## Count the accessible activities and caculate the proportion in total"
   ]
  },
  {
   "cell_type": "code",
   "execution_count": 3,
   "metadata": {},
   "outputs": [
    {
     "data": {
      "text/plain": [
       "dict_keys(['audio', 'audio_dates', 'signed', 'signed_dates', 'captioning', 'captioning_dates', 'other_services', 'other_services_dates', 'other_services_information'])"
      ]
     },
     "execution_count": 3,
     "metadata": {},
     "output_type": "execute_result"
    }
   ],
   "source": [
    "fringe_2019[0]['disabled'].keys()"
   ]
  },
  {
   "cell_type": "code",
   "execution_count": 4,
   "metadata": {},
   "outputs": [],
   "source": [
    "def countDisabled(data):\n",
    "    disabled = {'year': 0,\n",
    "                'audio': 0,\n",
    "                'audio_dates': 0,\n",
    "                'signed': 0,\n",
    "                'signed_dates': 0,\n",
    "                'captioning': 0,\n",
    "                'captioning_dates': 0,\n",
    "                'other_services': 0,\n",
    "                'other_services_dates': 0,\n",
    "                'other_services_information': 0,\n",
    "                'total': 0,\n",
    "                'no_services': 0\n",
    "               }\n",
    "\n",
    "    for item in data:\n",
    "        flag = 0\n",
    "        for k in item['disabled']:\n",
    "            if item['disabled'][k] == True:\n",
    "                disabled[k] += 1\n",
    "                flag = 1\n",
    "        disabled['total'] += flag\n",
    "\n",
    "    disabled['no_services'] = len(data) - disabled['total']\n",
    "    disabled['year'] = data[0]['year']\n",
    "\n",
    "    return disabled\n",
    "\n",
    "count_2019 = countDisabled(fringe_2019)\n",
    "count_2018 = countDisabled(fringe_2018)\n",
    "count_2017 = countDisabled(fringe_2017)\n",
    "count_2016 = countDisabled(fringe_2016)\n",
    "count_2015 = countDisabled(fringe_2015)\n",
    "count_2014 = countDisabled(fringe_2014)\n",
    "count_2013 = countDisabled(fringe_2013)\n",
    "count_2012 = countDisabled(fringe_2012)"
   ]
  },
  {
   "cell_type": "code",
   "execution_count": 5,
   "metadata": {},
   "outputs": [
    {
     "data": {
      "text/plain": [
       "{'year': 2019,\n",
       " 'audio': 13,\n",
       " 'audio_dates': 0,\n",
       " 'signed': 69,\n",
       " 'signed_dates': 0,\n",
       " 'captioning': 88,\n",
       " 'captioning_dates': 0,\n",
       " 'other_services': 84,\n",
       " 'other_services_dates': 0,\n",
       " 'other_services_information': 0,\n",
       " 'total': 209,\n",
       " 'no_services': 4048}"
      ]
     },
     "execution_count": 5,
     "metadata": {},
     "output_type": "execute_result"
    }
   ],
   "source": [
    "count_2019"
   ]
  },
  {
   "cell_type": "code",
   "execution_count": 6,
   "metadata": {},
   "outputs": [
    {
     "name": "stdout",
     "output_type": "stream",
     "text": [
      "In  2019 the proportion info of accessible services:\n",
      "The proportion of audio is: 0.32114624505928857 %\n",
      "The proportion of signed is: 1.7045454545454544 %\n",
      "The proportion of captioning is: 2.1739130434782608 %\n",
      "The proportion of other_services is: 2.075098814229249 %\n"
     ]
    }
   ],
   "source": [
    "proportion_2019 = {}\n",
    "proportion_2019 = dict.fromkeys(tuple(count_2019.keys()))\n",
    "\n",
    "print('In ',count_2019['year'], 'the proportion info of accessible services:')\n",
    "for k in count_2019.keys():\n",
    "    if k=='year' or k=='total' or k=='no_services' or count_2019[k]==0:\n",
    "        continue\n",
    "    else:\n",
    "        print('The proportion of',k,\"is:\", (count_2019[k] / count_2019['no_services']) * 100,'%')"
   ]
  },
  {
   "cell_type": "markdown",
   "metadata": {},
   "source": [
    "Save the data as CSV file to show proportion in pie chart (see infographics)."
   ]
  },
  {
   "cell_type": "code",
   "execution_count": 7,
   "metadata": {},
   "outputs": [],
   "source": [
    "data = []\n",
    "data.append(count_2019)\n",
    "data.append(count_2018)\n",
    "data.append(count_2017)\n",
    "data.append(count_2016)\n",
    "data.append(count_2015)\n",
    "data.append(count_2014)\n",
    "data.append(count_2013)\n",
    "data.append(count_2012)\n",
    "\n",
    "with open('disabled.csv','w',newline='',encoding='utf-8')as f:\n",
    "    fieldname = list(count_2019.keys())\n",
    "    writer = csv.DictWriter(f,fieldnames=fieldname)\n",
    "    writer.writeheader()\n",
    "    for i in data:\n",
    "        writer.writerow(i)"
   ]
  },
  {
   "cell_type": "markdown",
   "metadata": {},
   "source": [
    "## Deeper analysis of activities that provide accessible services each year\n",
    "\n",
    "First of all, find out all of the activities that provide accessible services each year."
   ]
  },
  {
   "cell_type": "code",
   "execution_count": 8,
   "metadata": {
    "scrolled": true
   },
   "outputs": [],
   "source": [
    "def recordDisabled(data):\n",
    "    record = []\n",
    "    for item in data:\n",
    "        for k in item['disabled']:\n",
    "            if item['disabled'][k] == True:\n",
    "                record.append(item)\n",
    "                break\n",
    "    return record\n",
    "\n",
    "disabled_2019 = recordDisabled(fringe_2019)"
   ]
  },
  {
   "cell_type": "markdown",
   "metadata": {},
   "source": [
    "### 1. Find out the genres of these activities."
   ]
  },
  {
   "cell_type": "code",
   "execution_count": 9,
   "metadata": {
    "scrolled": true
   },
   "outputs": [],
   "source": [
    "def countGenres(data):\n",
    "    genres = []\n",
    "    count = []\n",
    "    for item in data:\n",
    "        genres.append(item['genre'])\n",
    "\n",
    "    count = dict(Counter(genres))\n",
    "    count['year'] = data[0]['year']\n",
    "    \n",
    "    return count\n",
    "\n",
    "genres_2019 = countGenres(disabled_2019)"
   ]
  },
  {
   "cell_type": "code",
   "execution_count": 10,
   "metadata": {},
   "outputs": [
    {
     "data": {
      "text/plain": [
       "{'Comedy': 29,\n",
       " 'Theatre': 106,\n",
       " 'Music': 6,\n",
       " \"Children's Shows\": 24,\n",
       " 'Dance Physical Theatre and Circus': 11,\n",
       " 'Musicals and Opera': 8,\n",
       " 'Events': 21,\n",
       " 'Spoken Word': 3,\n",
       " 'Cabaret and Variety': 1,\n",
       " 'year': 2019}"
      ]
     },
     "execution_count": 10,
     "metadata": {},
     "output_type": "execute_result"
    }
   ],
   "source": [
    "genres_2019"
   ]
  },
  {
   "cell_type": "code",
   "execution_count": 11,
   "metadata": {},
   "outputs": [],
   "source": [
    "disabled_2018 = recordDisabled(fringe_2018)\n",
    "genres_2018 = countGenres(disabled_2018)\n",
    "disabled_2017 = recordDisabled(fringe_2017)\n",
    "genres_2017 = countGenres(disabled_2017)\n",
    "disabled_2016 = recordDisabled(fringe_2016)\n",
    "genres_2016 = countGenres(disabled_2016)\n",
    "disabled_2015 = recordDisabled(fringe_2015)\n",
    "genres_2015 = countGenres(disabled_2015)\n",
    "disabled_2014 = recordDisabled(fringe_2014)\n",
    "genres_2014 = countGenres(disabled_2014)\n",
    "disabled_2013 = recordDisabled(fringe_2013)\n",
    "genres_2013 = countGenres(disabled_2013)\n",
    "disabled_2012 = recordDisabled(fringe_2012)\n",
    "genres_2012 = countGenres(disabled_2012)"
   ]
  },
  {
   "cell_type": "code",
   "execution_count": 12,
   "metadata": {},
   "outputs": [
    {
     "data": {
      "text/plain": [
       "8"
      ]
     },
     "execution_count": 12,
     "metadata": {},
     "output_type": "execute_result"
    }
   ],
   "source": [
    "data = []\n",
    "data.append(genres_2019)\n",
    "data.append(genres_2018)\n",
    "data.append(genres_2017)\n",
    "data.append(genres_2016)\n",
    "data.append(genres_2015)\n",
    "data.append(genres_2014)\n",
    "data.append(genres_2013)\n",
    "data.append(genres_2012)\n",
    "\n",
    "len(data)"
   ]
  },
  {
   "cell_type": "code",
   "execution_count": 13,
   "metadata": {},
   "outputs": [
    {
     "data": {
      "text/html": [
       "<div>\n",
       "<style scoped>\n",
       "    .dataframe tbody tr th:only-of-type {\n",
       "        vertical-align: middle;\n",
       "    }\n",
       "\n",
       "    .dataframe tbody tr th {\n",
       "        vertical-align: top;\n",
       "    }\n",
       "\n",
       "    .dataframe thead th {\n",
       "        text-align: right;\n",
       "    }\n",
       "</style>\n",
       "<table border=\"1\" class=\"dataframe\">\n",
       "  <thead>\n",
       "    <tr style=\"text-align: right;\">\n",
       "      <th></th>\n",
       "      <th>Comedy</th>\n",
       "      <th>Theatre</th>\n",
       "      <th>Music</th>\n",
       "      <th>Children's Shows</th>\n",
       "      <th>Dance Physical Theatre and Circus</th>\n",
       "      <th>Musicals and Opera</th>\n",
       "      <th>Events</th>\n",
       "      <th>Spoken Word</th>\n",
       "      <th>Cabaret and Variety</th>\n",
       "      <th>year</th>\n",
       "      <th>Exhibitions</th>\n",
       "      <th>Cabaret</th>\n",
       "      <th>Exhibition</th>\n",
       "      <th>Musicals and Operas</th>\n",
       "      <th>Childrens Shows</th>\n",
       "      <th>Dance and Physical Theatre</th>\n",
       "    </tr>\n",
       "  </thead>\n",
       "  <tbody>\n",
       "    <tr>\n",
       "      <th>0</th>\n",
       "      <td>29</td>\n",
       "      <td>106</td>\n",
       "      <td>6.0</td>\n",
       "      <td>24.0</td>\n",
       "      <td>11.0</td>\n",
       "      <td>8.0</td>\n",
       "      <td>21</td>\n",
       "      <td>3</td>\n",
       "      <td>1.0</td>\n",
       "      <td>2019</td>\n",
       "      <td>NaN</td>\n",
       "      <td>NaN</td>\n",
       "      <td>NaN</td>\n",
       "      <td>NaN</td>\n",
       "      <td>NaN</td>\n",
       "      <td>NaN</td>\n",
       "    </tr>\n",
       "    <tr>\n",
       "      <th>1</th>\n",
       "      <td>27</td>\n",
       "      <td>79</td>\n",
       "      <td>NaN</td>\n",
       "      <td>26.0</td>\n",
       "      <td>3.0</td>\n",
       "      <td>3.0</td>\n",
       "      <td>21</td>\n",
       "      <td>4</td>\n",
       "      <td>NaN</td>\n",
       "      <td>2018</td>\n",
       "      <td>2.0</td>\n",
       "      <td>NaN</td>\n",
       "      <td>NaN</td>\n",
       "      <td>NaN</td>\n",
       "      <td>NaN</td>\n",
       "      <td>NaN</td>\n",
       "    </tr>\n",
       "    <tr>\n",
       "      <th>2</th>\n",
       "      <td>22</td>\n",
       "      <td>67</td>\n",
       "      <td>1.0</td>\n",
       "      <td>16.0</td>\n",
       "      <td>4.0</td>\n",
       "      <td>1.0</td>\n",
       "      <td>5</td>\n",
       "      <td>3</td>\n",
       "      <td>NaN</td>\n",
       "      <td>2017</td>\n",
       "      <td>NaN</td>\n",
       "      <td>NaN</td>\n",
       "      <td>NaN</td>\n",
       "      <td>NaN</td>\n",
       "      <td>NaN</td>\n",
       "      <td>NaN</td>\n",
       "    </tr>\n",
       "    <tr>\n",
       "      <th>3</th>\n",
       "      <td>18</td>\n",
       "      <td>66</td>\n",
       "      <td>23.0</td>\n",
       "      <td>27.0</td>\n",
       "      <td>3.0</td>\n",
       "      <td>7.0</td>\n",
       "      <td>10</td>\n",
       "      <td>5</td>\n",
       "      <td>2.0</td>\n",
       "      <td>2016</td>\n",
       "      <td>6.0</td>\n",
       "      <td>NaN</td>\n",
       "      <td>NaN</td>\n",
       "      <td>NaN</td>\n",
       "      <td>NaN</td>\n",
       "      <td>NaN</td>\n",
       "    </tr>\n",
       "    <tr>\n",
       "      <th>4</th>\n",
       "      <td>21</td>\n",
       "      <td>66</td>\n",
       "      <td>13.0</td>\n",
       "      <td>36.0</td>\n",
       "      <td>17.0</td>\n",
       "      <td>11.0</td>\n",
       "      <td>6</td>\n",
       "      <td>8</td>\n",
       "      <td>2.0</td>\n",
       "      <td>2015</td>\n",
       "      <td>8.0</td>\n",
       "      <td>NaN</td>\n",
       "      <td>NaN</td>\n",
       "      <td>NaN</td>\n",
       "      <td>NaN</td>\n",
       "      <td>NaN</td>\n",
       "    </tr>\n",
       "    <tr>\n",
       "      <th>5</th>\n",
       "      <td>11</td>\n",
       "      <td>50</td>\n",
       "      <td>7.0</td>\n",
       "      <td>20.0</td>\n",
       "      <td>8.0</td>\n",
       "      <td>5.0</td>\n",
       "      <td>1</td>\n",
       "      <td>3</td>\n",
       "      <td>NaN</td>\n",
       "      <td>2014</td>\n",
       "      <td>2.0</td>\n",
       "      <td>1.0</td>\n",
       "      <td>NaN</td>\n",
       "      <td>NaN</td>\n",
       "      <td>NaN</td>\n",
       "      <td>NaN</td>\n",
       "    </tr>\n",
       "    <tr>\n",
       "      <th>6</th>\n",
       "      <td>49</td>\n",
       "      <td>65</td>\n",
       "      <td>107.0</td>\n",
       "      <td>NaN</td>\n",
       "      <td>NaN</td>\n",
       "      <td>NaN</td>\n",
       "      <td>10</td>\n",
       "      <td>6</td>\n",
       "      <td>NaN</td>\n",
       "      <td>2013</td>\n",
       "      <td>NaN</td>\n",
       "      <td>8.0</td>\n",
       "      <td>15.0</td>\n",
       "      <td>19.0</td>\n",
       "      <td>23.0</td>\n",
       "      <td>18.0</td>\n",
       "    </tr>\n",
       "    <tr>\n",
       "      <th>7</th>\n",
       "      <td>55</td>\n",
       "      <td>68</td>\n",
       "      <td>109.0</td>\n",
       "      <td>NaN</td>\n",
       "      <td>NaN</td>\n",
       "      <td>NaN</td>\n",
       "      <td>9</td>\n",
       "      <td>5</td>\n",
       "      <td>NaN</td>\n",
       "      <td>2012</td>\n",
       "      <td>NaN</td>\n",
       "      <td>7.0</td>\n",
       "      <td>17.0</td>\n",
       "      <td>12.0</td>\n",
       "      <td>21.0</td>\n",
       "      <td>14.0</td>\n",
       "    </tr>\n",
       "  </tbody>\n",
       "</table>\n",
       "</div>"
      ],
      "text/plain": [
       "   Comedy  Theatre  Music  Children's Shows  \\\n",
       "0      29      106    6.0              24.0   \n",
       "1      27       79    NaN              26.0   \n",
       "2      22       67    1.0              16.0   \n",
       "3      18       66   23.0              27.0   \n",
       "4      21       66   13.0              36.0   \n",
       "5      11       50    7.0              20.0   \n",
       "6      49       65  107.0               NaN   \n",
       "7      55       68  109.0               NaN   \n",
       "\n",
       "   Dance Physical Theatre and Circus  Musicals and Opera  Events  Spoken Word  \\\n",
       "0                               11.0                 8.0      21            3   \n",
       "1                                3.0                 3.0      21            4   \n",
       "2                                4.0                 1.0       5            3   \n",
       "3                                3.0                 7.0      10            5   \n",
       "4                               17.0                11.0       6            8   \n",
       "5                                8.0                 5.0       1            3   \n",
       "6                                NaN                 NaN      10            6   \n",
       "7                                NaN                 NaN       9            5   \n",
       "\n",
       "   Cabaret and Variety  year  Exhibitions  Cabaret  Exhibition  \\\n",
       "0                  1.0  2019          NaN      NaN         NaN   \n",
       "1                  NaN  2018          2.0      NaN         NaN   \n",
       "2                  NaN  2017          NaN      NaN         NaN   \n",
       "3                  2.0  2016          6.0      NaN         NaN   \n",
       "4                  2.0  2015          8.0      NaN         NaN   \n",
       "5                  NaN  2014          2.0      1.0         NaN   \n",
       "6                  NaN  2013          NaN      8.0        15.0   \n",
       "7                  NaN  2012          NaN      7.0        17.0   \n",
       "\n",
       "   Musicals and Operas  Childrens Shows  Dance and Physical Theatre  \n",
       "0                  NaN              NaN                         NaN  \n",
       "1                  NaN              NaN                         NaN  \n",
       "2                  NaN              NaN                         NaN  \n",
       "3                  NaN              NaN                         NaN  \n",
       "4                  NaN              NaN                         NaN  \n",
       "5                  NaN              NaN                         NaN  \n",
       "6                 19.0             23.0                        18.0  \n",
       "7                 12.0             21.0                        14.0  "
      ]
     },
     "execution_count": 13,
     "metadata": {},
     "output_type": "execute_result"
    }
   ],
   "source": [
    "disabled_genre = pd.DataFrame(data)\n",
    "disabled_genre"
   ]
  },
  {
   "cell_type": "code",
   "execution_count": 14,
   "metadata": {},
   "outputs": [
    {
     "data": {
      "image/png": "[encoded data removed]",
      "text/plain": [
       "<Figure size 720x576 with 1 Axes>"
      ]
     },
     "metadata": {
      "needs_background": "light"
     },
     "output_type": "display_data"
    }
   ],
   "source": [
    "plt.figure(figsize=(10, 8))\n",
    "ax = sns.barplot(data=disabled_genre.iloc[:,:],orient='h')\n",
    "ax.set_title('Figure : 1.')\n",
    "plt.show()"
   ]
  },
  {
   "cell_type": "code",
   "execution_count": 15,
   "metadata": {},
   "outputs": [],
   "source": [
    "fieldname = []\n",
    "for item in data:\n",
    "    fieldname += list(item.keys())\n",
    "fieldname = list(Counter(fieldname))\n",
    "\n",
    "for item in data:\n",
    "    for i in range(0, len(fieldname)):\n",
    "        if fieldname[i] not in item.keys():\n",
    "            item[fieldname[i]] = 0\n",
    "\n",
    "with open('disabled_genre.csv','w',newline='',encoding='utf-8')as f:\n",
    "    writer = csv.DictWriter(f,fieldnames=fieldname)\n",
    "    writer.writeheader()\n",
    "    for i in data:\n",
    "        writer.writerow(i)"
   ]
  },
  {
   "cell_type": "markdown",
   "metadata": {},
   "source": [
    "The figure above shows that in the past 8 years, Most activities are Theatre and Music also has a large number (with great fluctuations), followed by Comedy, Children's shows, etc. These findings are surprising because we usually think of theatre as a big event, and we might not immediately think of how musicals provide accessible services. \n",
    "And these findings raise some questions: What kind of accessible services do they provide? Why are activities that provide accessibility services concentrated in several genres? Is there any correlation between the distribution of accessibility services and the genre of activities?\n",
    "\n",
    "The following code looks for the relationship between accessibility services and activity genres and saves the data as a CSV file, which has been used to generate figures in our InfoGraphics.\n",
    "\n",
    "We find that activities that provide accessible services from 2012 to 2013 did not specify what services were being provided (only record as \"other services\"). It changed since 2014, when two types of activities, Theater and Comedy, have begun to provide a variety of accessible services in addition to \"other services\". Of all the accessible services, most services are \"captioning\" and \"signed\", while the activity providing \"audio\" service is always very few."
   ]
  },
  {
   "cell_type": "code",
   "execution_count": 16,
   "metadata": {
    "scrolled": true
   },
   "outputs": [],
   "source": [
    "def servicesInGenres(data):\n",
    "    genres = []\n",
    "    services_genres = {}\n",
    "    \n",
    "    for item in data:\n",
    "        genres.append(item['genre'])\n",
    "\n",
    "    genres = list(set(genres))\n",
    "    services_genres = dict.fromkeys(tuple(genres))\n",
    "    \n",
    "    for k in services_genres.keys():\n",
    "        services_genres[k] = {'audio': 0,\n",
    "                              'signed': 0,\n",
    "                              'captioning': 0,\n",
    "                              'other_services': 0,\n",
    "                             }\n",
    "    \n",
    "    for item in data:\n",
    "        temp_genre = item['genre']\n",
    "        for service in item['disabled']:\n",
    "            if item['disabled'][service]==True:\n",
    "                services_genres[temp_genre][service] += 1\n",
    "    \n",
    "    return services_genres"
   ]
  },
  {
   "cell_type": "code",
   "execution_count": 17,
   "metadata": {},
   "outputs": [],
   "source": [
    "services_2019 = servicesInGenres(disabled_2019)\n",
    "services_2018 = servicesInGenres(disabled_2018)\n",
    "services_2017 = servicesInGenres(disabled_2017)\n",
    "services_2016 = servicesInGenres(disabled_2016)\n",
    "services_2015 = servicesInGenres(disabled_2015)\n",
    "services_2014 = servicesInGenres(disabled_2014)\n",
    "services_2013 = servicesInGenres(disabled_2013)\n",
    "services_2012 = servicesInGenres(disabled_2012)"
   ]
  },
  {
   "cell_type": "code",
   "execution_count": 18,
   "metadata": {},
   "outputs": [],
   "source": [
    "services_2019_test = pd.DataFrame(services_2019)\n",
    "services_2019_test.to_csv('services_2019.csv')"
   ]
  },
  {
   "cell_type": "code",
   "execution_count": 19,
   "metadata": {},
   "outputs": [
    {
     "data": {
      "text/html": [
       "<div>\n",
       "<style scoped>\n",
       "    .dataframe tbody tr th:only-of-type {\n",
       "        vertical-align: middle;\n",
       "    }\n",
       "\n",
       "    .dataframe tbody tr th {\n",
       "        vertical-align: top;\n",
       "    }\n",
       "\n",
       "    .dataframe thead th {\n",
       "        text-align: right;\n",
       "    }\n",
       "</style>\n",
       "<table border=\"1\" class=\"dataframe\">\n",
       "  <thead>\n",
       "    <tr style=\"text-align: right;\">\n",
       "      <th></th>\n",
       "      <th>Dance Physical Theatre and Circus</th>\n",
       "      <th>Musicals and Opera</th>\n",
       "      <th>Theatre</th>\n",
       "      <th>Children's Shows</th>\n",
       "      <th>Spoken Word</th>\n",
       "      <th>Music</th>\n",
       "      <th>Cabaret and Variety</th>\n",
       "      <th>Comedy</th>\n",
       "      <th>Events</th>\n",
       "    </tr>\n",
       "  </thead>\n",
       "  <tbody>\n",
       "    <tr>\n",
       "      <th>audio</th>\n",
       "      <td>2</td>\n",
       "      <td>0</td>\n",
       "      <td>10</td>\n",
       "      <td>1</td>\n",
       "      <td>0</td>\n",
       "      <td>0</td>\n",
       "      <td>0</td>\n",
       "      <td>0</td>\n",
       "      <td>0</td>\n",
       "    </tr>\n",
       "    <tr>\n",
       "      <th>signed</th>\n",
       "      <td>5</td>\n",
       "      <td>1</td>\n",
       "      <td>29</td>\n",
       "      <td>4</td>\n",
       "      <td>0</td>\n",
       "      <td>1</td>\n",
       "      <td>0</td>\n",
       "      <td>11</td>\n",
       "      <td>18</td>\n",
       "    </tr>\n",
       "    <tr>\n",
       "      <th>captioning</th>\n",
       "      <td>2</td>\n",
       "      <td>5</td>\n",
       "      <td>58</td>\n",
       "      <td>9</td>\n",
       "      <td>1</td>\n",
       "      <td>0</td>\n",
       "      <td>0</td>\n",
       "      <td>9</td>\n",
       "      <td>4</td>\n",
       "    </tr>\n",
       "    <tr>\n",
       "      <th>other_services</th>\n",
       "      <td>3</td>\n",
       "      <td>3</td>\n",
       "      <td>44</td>\n",
       "      <td>16</td>\n",
       "      <td>2</td>\n",
       "      <td>5</td>\n",
       "      <td>1</td>\n",
       "      <td>10</td>\n",
       "      <td>0</td>\n",
       "    </tr>\n",
       "  </tbody>\n",
       "</table>\n",
       "</div>"
      ],
      "text/plain": [
       "                Dance Physical Theatre and Circus  Musicals and Opera  \\\n",
       "audio                                           2                   0   \n",
       "signed                                          5                   1   \n",
       "captioning                                      2                   5   \n",
       "other_services                                  3                   3   \n",
       "\n",
       "                Theatre  Children's Shows  Spoken Word  Music  \\\n",
       "audio                10                 1            0      0   \n",
       "signed               29                 4            0      1   \n",
       "captioning           58                 9            1      0   \n",
       "other_services       44                16            2      5   \n",
       "\n",
       "                Cabaret and Variety  Comedy  Events  \n",
       "audio                             0       0       0  \n",
       "signed                            0      11      18  \n",
       "captioning                        0       9       4  \n",
       "other_services                    1      10       0  "
      ]
     },
     "execution_count": 19,
     "metadata": {},
     "output_type": "execute_result"
    }
   ],
   "source": [
    "services_2019_test"
   ]
  },
  {
   "cell_type": "code",
   "execution_count": 20,
   "metadata": {},
   "outputs": [],
   "source": [
    "pd.DataFrame(services_2018).to_csv('services_2018.csv')\n",
    "pd.DataFrame(services_2017).to_csv('services_2017.csv')\n",
    "pd.DataFrame(services_2016).to_csv('services_2016.csv')\n",
    "pd.DataFrame(services_2015).to_csv('services_2015.csv')\n",
    "pd.DataFrame(services_2014).to_csv('services_2014.csv')\n",
    "pd.DataFrame(services_2013).to_csv('services_2013.csv')\n",
    "pd.DataFrame(services_2012).to_csv('services_2012.csv')"
   ]
  },
  {
   "cell_type": "markdown",
   "metadata": {},
   "source": [
    "### 2. The Performance Information of These Activities\n",
    "\n",
    "In the following code, we want to find out the relationships among perform times, performers number, and venue capacity of the activities."
   ]
  },
  {
   "cell_type": "code",
   "execution_count": 21,
   "metadata": {},
   "outputs": [],
   "source": [
    "def performancesData(data):\n",
    "    perform_data = []\n",
    "    perform_times = 0\n",
    "    for item in data:\n",
    "        perform_times = len(item['performances'])\n",
    "        perform_data.append({'title': item['title'],\n",
    "                            'capacity': item['performance_space']['capacity'],\n",
    "                             'perform_times': perform_times,\n",
    "                             'performers_number': item['performers_number'],\n",
    "                             'year': item['year']\n",
    "                            })\n",
    "    return perform_data\n",
    "\n",
    "perform_2019 = performancesData(disabled_2019)"
   ]
  },
  {
   "cell_type": "code",
   "execution_count": 22,
   "metadata": {},
   "outputs": [],
   "source": [
    "perform_2018 = performancesData(disabled_2018)\n",
    "perform_2017 = performancesData(disabled_2017)\n",
    "perform_data = perform_2017 + perform_2018 + perform_2019"
   ]
  },
  {
   "cell_type": "code",
   "execution_count": 23,
   "metadata": {},
   "outputs": [
    {
     "data": {
      "text/plain": [
       "{'title': 'Black Mountain',\n",
       " 'capacity': 167,\n",
       " 'perform_times': 11,\n",
       " 'performers_number': 10,\n",
       " 'year': 2017}"
      ]
     },
     "execution_count": 23,
     "metadata": {},
     "output_type": "execute_result"
    }
   ],
   "source": [
    "perform_data[0]"
   ]
  },
  {
   "cell_type": "code",
   "execution_count": 24,
   "metadata": {},
   "outputs": [
    {
     "data": {
      "text/html": [
       "<div>\n",
       "<style scoped>\n",
       "    .dataframe tbody tr th:only-of-type {\n",
       "        vertical-align: middle;\n",
       "    }\n",
       "\n",
       "    .dataframe tbody tr th {\n",
       "        vertical-align: top;\n",
       "    }\n",
       "\n",
       "    .dataframe thead th {\n",
       "        text-align: right;\n",
       "    }\n",
       "</style>\n",
       "<table border=\"1\" class=\"dataframe\">\n",
       "  <thead>\n",
       "    <tr style=\"text-align: right;\">\n",
       "      <th></th>\n",
       "      <th>title</th>\n",
       "      <th>capacity</th>\n",
       "      <th>perform_times</th>\n",
       "      <th>performers_number</th>\n",
       "      <th>year</th>\n",
       "    </tr>\n",
       "  </thead>\n",
       "  <tbody>\n",
       "    <tr>\n",
       "      <th>0</th>\n",
       "      <td>Black Mountain</td>\n",
       "      <td>167</td>\n",
       "      <td>11</td>\n",
       "      <td>10</td>\n",
       "      <td>2017</td>\n",
       "    </tr>\n",
       "    <tr>\n",
       "      <th>1</th>\n",
       "      <td>Once Were Pirates</td>\n",
       "      <td>83</td>\n",
       "      <td>24</td>\n",
       "      <td>2</td>\n",
       "      <td>2017</td>\n",
       "    </tr>\n",
       "    <tr>\n",
       "      <th>2</th>\n",
       "      <td>Scott Agnew: Spunk on Our Lady's Face</td>\n",
       "      <td>50</td>\n",
       "      <td>26</td>\n",
       "      <td>1</td>\n",
       "      <td>2017</td>\n",
       "    </tr>\n",
       "    <tr>\n",
       "      <th>3</th>\n",
       "      <td>Jimeoin: Ridiculous</td>\n",
       "      <td>600</td>\n",
       "      <td>23</td>\n",
       "      <td>1</td>\n",
       "      <td>2017</td>\n",
       "    </tr>\n",
       "    <tr>\n",
       "      <th>4</th>\n",
       "      <td>Jimeoin: Even More Ridiculous!</td>\n",
       "      <td>600</td>\n",
       "      <td>6</td>\n",
       "      <td>1</td>\n",
       "      <td>2017</td>\n",
       "    </tr>\n",
       "  </tbody>\n",
       "</table>\n",
       "</div>"
      ],
      "text/plain": [
       "                                   title  capacity  perform_times  \\\n",
       "0                         Black Mountain       167             11   \n",
       "1                      Once Were Pirates        83             24   \n",
       "2  Scott Agnew: Spunk on Our Lady's Face        50             26   \n",
       "3                    Jimeoin: Ridiculous       600             23   \n",
       "4         Jimeoin: Even More Ridiculous!       600              6   \n",
       "\n",
       "   performers_number  year  \n",
       "0                 10  2017  \n",
       "1                  2  2017  \n",
       "2                  1  2017  \n",
       "3                  1  2017  \n",
       "4                  1  2017  "
      ]
     },
     "execution_count": 24,
     "metadata": {},
     "output_type": "execute_result"
    }
   ],
   "source": [
    "perform_data_df = pd.DataFrame(perform_data)\n",
    "perform_data_df.head()"
   ]
  },
  {
   "cell_type": "code",
   "execution_count": 25,
   "metadata": {},
   "outputs": [
    {
     "data": {
      "image/png": "[encoded data removed]",
      "text/plain": [
       "<Figure size 1080x432 with 1 Axes>"
      ]
     },
     "metadata": {
      "needs_background": "light"
     },
     "output_type": "display_data"
    }
   ],
   "source": [
    "plt.figure(figsize=(15, 6))\n",
    "ax = sns.scatterplot(\n",
    "    data=perform_data_df, x=\"capacity\", y=\"perform_times\", hue=\"year\", size=\"performers_number\",\n",
    "    sizes=(30, 200), legend=\"brief\"\n",
    ")\n",
    "ax.set_title('Figure : 1.')\n",
    "plt.show()"
   ]
  },
  {
   "cell_type": "code",
   "execution_count": 26,
   "metadata": {},
   "outputs": [],
   "source": [
    "with open('disabled_perform.csv','w',newline='',encoding='utf-8')as f:\n",
    "    fieldname = perform_data[0].keys()\n",
    "    writer = csv.DictWriter(f,fieldnames=fieldname)\n",
    "    writer.writeheader()\n",
    "    for i in perform_data:\n",
    "        writer.writerow(i)"
   ]
  },
  {
   "cell_type": "markdown",
   "metadata": {},
   "source": [
    "From the figure above, we can see that in the past three years, the performance times of activities providing accessible services were mostly between 0-30, and the capacities of venues were mostly between 0-200, and the number of performers was mostly less than 20. Although the overall performance situation has not changed much in the past three years, we can see that in 2019, there have been activities using large venues and activities with a large number of performers.\n",
    "\n",
    "We saved this part of the data as CSV files and showed the dynamic picture in our infographic."
   ]
  }
 ],
 "metadata": {
  "kernelspec": {
   "display_name": "Python 3",
   "language": "python",
   "name": "python3"
  },
  "language_info": {
   "codemirror_mode": {
    "name": "ipython",
    "version": 3
   },
   "file_extension": ".py",
   "mimetype": "text/x-python",
   "name": "python",
   "nbconvert_exporter": "python",
   "pygments_lexer": "ipython3",
   "version": "3.6.8"
  }
 },
 "nbformat": 4,
 "nbformat_minor": 2
}
